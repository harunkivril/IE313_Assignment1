{
 "cells": [
  {
   "cell_type": "code",
   "execution_count": 1,
   "metadata": {},
   "outputs": [],
   "source": [
    "import pandas as pd\n",
    "import numpy as np"
   ]
  },
  {
   "cell_type": "code",
   "execution_count": 2,
   "metadata": {},
   "outputs": [
    {
     "data": {
      "text/html": [
       "<div>\n",
       "<style scoped>\n",
       "    .dataframe tbody tr th:only-of-type {\n",
       "        vertical-align: middle;\n",
       "    }\n",
       "\n",
       "    .dataframe tbody tr th {\n",
       "        vertical-align: top;\n",
       "    }\n",
       "\n",
       "    .dataframe thead tr th {\n",
       "        text-align: left;\n",
       "    }\n",
       "</style>\n",
       "<table border=\"1\" class=\"dataframe\">\n",
       "  <thead>\n",
       "    <tr>\n",
       "      <th></th>\n",
       "      <th>Unnamed: 0_level_0</th>\n",
       "      <th colspan=\"2\" halign=\"left\">Single70</th>\n",
       "      <th colspan=\"2\" halign=\"left\">Double70</th>\n",
       "      <th colspan=\"2\" halign=\"left\">Double80</th>\n",
       "    </tr>\n",
       "    <tr>\n",
       "      <th></th>\n",
       "      <th>Months</th>\n",
       "      <th>Sales\\nForecast\\n(Units)</th>\n",
       "      <th>Production\\nCost ($/unit)</th>\n",
       "      <th>Sales\\nForecast\\n(Units)</th>\n",
       "      <th>Production\\nCost ($/unit)</th>\n",
       "      <th>Sales\\nForecast\\n(Units)</th>\n",
       "      <th>Production\\nCost ($/unit)</th>\n",
       "    </tr>\n",
       "  </thead>\n",
       "  <tbody>\n",
       "    <tr>\n",
       "      <th>0</th>\n",
       "      <td>Jan</td>\n",
       "      <td>25000.0</td>\n",
       "      <td>450.0</td>\n",
       "      <td>18500.0</td>\n",
       "      <td>650.0</td>\n",
       "      <td>9500.0</td>\n",
       "      <td>810.0</td>\n",
       "    </tr>\n",
       "    <tr>\n",
       "      <th>1</th>\n",
       "      <td>Feb</td>\n",
       "      <td>25000.0</td>\n",
       "      <td>450.0</td>\n",
       "      <td>19000.0</td>\n",
       "      <td>650.0</td>\n",
       "      <td>9500.0</td>\n",
       "      <td>810.0</td>\n",
       "    </tr>\n",
       "    <tr>\n",
       "      <th>2</th>\n",
       "      <td>Mar</td>\n",
       "      <td>26000.0</td>\n",
       "      <td>450.0</td>\n",
       "      <td>20000.0</td>\n",
       "      <td>650.0</td>\n",
       "      <td>9500.0</td>\n",
       "      <td>880.0</td>\n",
       "    </tr>\n",
       "    <tr>\n",
       "      <th>3</th>\n",
       "      <td>Apr</td>\n",
       "      <td>26000.0</td>\n",
       "      <td>475.0</td>\n",
       "      <td>21000.0</td>\n",
       "      <td>625.0</td>\n",
       "      <td>7500.0</td>\n",
       "      <td>880.0</td>\n",
       "    </tr>\n",
       "    <tr>\n",
       "      <th>4</th>\n",
       "      <td>May</td>\n",
       "      <td>27000.0</td>\n",
       "      <td>475.0</td>\n",
       "      <td>20000.0</td>\n",
       "      <td>600.0</td>\n",
       "      <td>7500.0</td>\n",
       "      <td>880.0</td>\n",
       "    </tr>\n",
       "    <tr>\n",
       "      <th>5</th>\n",
       "      <td>Jun</td>\n",
       "      <td>27000.0</td>\n",
       "      <td>475.0</td>\n",
       "      <td>19000.0</td>\n",
       "      <td>590.0</td>\n",
       "      <td>7500.0</td>\n",
       "      <td>880.0</td>\n",
       "    </tr>\n",
       "    <tr>\n",
       "      <th>6</th>\n",
       "      <td>Jul</td>\n",
       "      <td>28000.0</td>\n",
       "      <td>500.0</td>\n",
       "      <td>18000.0</td>\n",
       "      <td>580.0</td>\n",
       "      <td>6500.0</td>\n",
       "      <td>880.0</td>\n",
       "    </tr>\n",
       "    <tr>\n",
       "      <th>7</th>\n",
       "      <td>Aug</td>\n",
       "      <td>29000.0</td>\n",
       "      <td>500.0</td>\n",
       "      <td>17000.0</td>\n",
       "      <td>550.0</td>\n",
       "      <td>6500.0</td>\n",
       "      <td>840.0</td>\n",
       "    </tr>\n",
       "    <tr>\n",
       "      <th>8</th>\n",
       "      <td>Sep</td>\n",
       "      <td>30000.0</td>\n",
       "      <td>500.0</td>\n",
       "      <td>19000.0</td>\n",
       "      <td>550.0</td>\n",
       "      <td>6500.0</td>\n",
       "      <td>840.0</td>\n",
       "    </tr>\n",
       "    <tr>\n",
       "      <th>9</th>\n",
       "      <td>Oct</td>\n",
       "      <td>30000.0</td>\n",
       "      <td>400.0</td>\n",
       "      <td>20000.0</td>\n",
       "      <td>550.0</td>\n",
       "      <td>6500.0</td>\n",
       "      <td>840.0</td>\n",
       "    </tr>\n",
       "    <tr>\n",
       "      <th>10</th>\n",
       "      <td>Nov</td>\n",
       "      <td>30000.0</td>\n",
       "      <td>400.0</td>\n",
       "      <td>20500.0</td>\n",
       "      <td>610.0</td>\n",
       "      <td>6500.0</td>\n",
       "      <td>880.0</td>\n",
       "    </tr>\n",
       "    <tr>\n",
       "      <th>11</th>\n",
       "      <td>Dec</td>\n",
       "      <td>30000.0</td>\n",
       "      <td>400.0</td>\n",
       "      <td>21000.0</td>\n",
       "      <td>640.0</td>\n",
       "      <td>6500.0</td>\n",
       "      <td>880.0</td>\n",
       "    </tr>\n",
       "  </tbody>\n",
       "</table>\n",
       "</div>"
      ],
      "text/plain": [
       "   Unnamed: 0_level_0                 Single70                            \\\n",
       "               Months Sales\\nForecast\\n(Units) Production\\nCost ($/unit)   \n",
       "0                 Jan                  25000.0                     450.0   \n",
       "1                 Feb                  25000.0                     450.0   \n",
       "2                 Mar                  26000.0                     450.0   \n",
       "3                 Apr                  26000.0                     475.0   \n",
       "4                 May                  27000.0                     475.0   \n",
       "5                 Jun                  27000.0                     475.0   \n",
       "6                 Jul                  28000.0                     500.0   \n",
       "7                 Aug                  29000.0                     500.0   \n",
       "8                 Sep                  30000.0                     500.0   \n",
       "9                 Oct                  30000.0                     400.0   \n",
       "10                Nov                  30000.0                     400.0   \n",
       "11                Dec                  30000.0                     400.0   \n",
       "\n",
       "                   Double70                            \\\n",
       "   Sales\\nForecast\\n(Units) Production\\nCost ($/unit)   \n",
       "0                   18500.0                     650.0   \n",
       "1                   19000.0                     650.0   \n",
       "2                   20000.0                     650.0   \n",
       "3                   21000.0                     625.0   \n",
       "4                   20000.0                     600.0   \n",
       "5                   19000.0                     590.0   \n",
       "6                   18000.0                     580.0   \n",
       "7                   17000.0                     550.0   \n",
       "8                   19000.0                     550.0   \n",
       "9                   20000.0                     550.0   \n",
       "10                  20500.0                     610.0   \n",
       "11                  21000.0                     640.0   \n",
       "\n",
       "                   Double80                            \n",
       "   Sales\\nForecast\\n(Units) Production\\nCost ($/unit)  \n",
       "0                    9500.0                     810.0  \n",
       "1                    9500.0                     810.0  \n",
       "2                    9500.0                     880.0  \n",
       "3                    7500.0                     880.0  \n",
       "4                    7500.0                     880.0  \n",
       "5                    7500.0                     880.0  \n",
       "6                    6500.0                     880.0  \n",
       "7                    6500.0                     840.0  \n",
       "8                    6500.0                     840.0  \n",
       "9                    6500.0                     840.0  \n",
       "10                   6500.0                     880.0  \n",
       "11                   6500.0                     880.0  "
      ]
     },
     "execution_count": 2,
     "metadata": {},
     "output_type": "execute_result"
    }
   ],
   "source": [
    "data = pd.read_excel('Assignment1_2020.xlsx', header = [0,1])[:12]\n",
    "data"
   ]
  },
  {
   "cell_type": "code",
   "execution_count": 3,
   "metadata": {},
   "outputs": [
    {
     "data": {
      "text/plain": [
       "0     18500.0\n",
       "1     19000.0\n",
       "2     20000.0\n",
       "3     21000.0\n",
       "4     20000.0\n",
       "5     19000.0\n",
       "6     18000.0\n",
       "7     17000.0\n",
       "8     19000.0\n",
       "9     20000.0\n",
       "10    20500.0\n",
       "11    21000.0\n",
       "Name: Sales\\nForecast\\n(Units), dtype: float64"
      ]
     },
     "execution_count": 3,
     "metadata": {},
     "output_type": "execute_result"
    }
   ],
   "source": [
    "data['Double70']['Sales\\nForecast\\n(Units)']"
   ]
  },
  {
   "cell_type": "code",
   "execution_count": 4,
   "metadata": {},
   "outputs": [],
   "source": [
    "#Constant Workforce\n",
    "#Overtime Allowed\n",
    "#Shortages Not Allowed\n",
    "\n",
    "inv_carry_rate = np.r_[[0.01]*6, [0.013]*6]\n",
    "prod_times = {'Single70': 1.65, 'Double70': 2.15, 'Double80': 2.68}\n",
    "reg_workforce = np.r_[[90000]*6, [100000]*6]\n",
    "overtime_workforce = reg_workforce*0.25\n",
    "reg_cost = np.r_[[30]*6, [35]*6]\n",
    "overtime_cost = reg_cost*1.5\n",
    "I0 =[6500, 12000, 3000]\n"
   ]
  },
  {
   "cell_type": "code",
   "execution_count": 5,
   "metadata": {},
   "outputs": [],
   "source": [
    "V = np.c_[data['Single70']['Production\\nCost ($/unit)'], data['Double70']['Production\\nCost ($/unit)'],data['Double80']['Production\\nCost ($/unit)']].T\n",
    "C = np.multiply(V , inv_carry_rate)\n",
    "d = np.c_[data['Single70']['Sales\\nForecast\\n(Units)'], data['Double70']['Sales\\nForecast\\n(Units)'],data['Double80']['Sales\\nForecast\\n(Units)']].T\n",
    "k = np.array(list(prod_times.values()))"
   ]
  },
  {
   "cell_type": "markdown",
   "metadata": {},
   "source": [
    "## Base Model"
   ]
  },
  {
   "cell_type": "code",
   "execution_count": 7,
   "metadata": {
    "scrolled": true
   },
   "outputs": [],
   "source": [
    "import pyomo.environ as pyo\n",
    "i = 3\n",
    "t = 12\n",
    "M_Base = pyo.ConcreteModel()\n",
    "M_Base.i = range(i)\n",
    "M_Base.t = range(t)\n",
    "M_Base.t2 = range(1,t)\n",
    "\n",
    "M_Base.X = pyo.Var(M_Base.i, M_Base.t, domain = pyo.NonNegativeReals)\n",
    "M_Base.W = pyo.Var(M_Base.t, domain = pyo.NonNegativeReals)\n",
    "M_Base.O = pyo.Var(M_Base.t, domain = pyo.NonNegativeReals)\n",
    "M_Base.I = pyo.Var(M_Base.i, M_Base.t, domain = pyo.NonNegativeReals)\n",
    "\n",
    "def obj(model):\n",
    "    return sum(C[i,t]*model.I[i,t] for i in model.i for t in model.t) + sum(V[i,t]*model.X[i,t] for i in model.i for t in model.t) + sum(reg_cost[t]*model.W[t] for t in model.t) + sum(overtime_cost[t]*model.O[t] for t in model.t) \n",
    "\n",
    "M_Base.obj = pyo.Objective(rule = obj, sense= pyo.minimize)\n",
    "\n",
    "def c0_rule(model, i):\n",
    "    return model.X[i,0] + I0[i] - d[i,0] -  model.I[i,0] == 0\n",
    "def c1_rule(model, i, t2):\n",
    "    return model.X[i,t2] + model.I[i,t2-1] - d[i,t2] - model.I[i,t2] == 0\n",
    "def c2_rule(model, t):\n",
    "    return model.W[t] <= reg_workforce[t]\n",
    "def c3_rule(model, t):\n",
    "    return model.O[t] <= overtime_workforce[t]\n",
    "def c4_rule(model, t):\n",
    "    return sum(model.X[i,t]*k[i] for i in model.i) <= model.O[t] + model.W[t]\n",
    "\n",
    "M_Base.c1 = pyo.Constraint(M_Base.i, M_Base.t2, rule = c1_rule)\n",
    "M_Base.c2 = pyo.Constraint(M_Base.t, rule = c2_rule)\n",
    "M_Base.c3 = pyo.Constraint(M_Base.t, rule = c3_rule)\n",
    "M_Base.c4 = pyo.Constraint(M_Base.t, rule = c4_rule)\n",
    "M_Base.c0 = pyo.Constraint(M_Base.i, rule = c0_rule)"
   ]
  },
  {
   "cell_type": "code",
   "execution_count": 9,
   "metadata": {},
   "outputs": [
    {
     "name": "stdout",
     "output_type": "stream",
     "text": [
      "Welcome to the CBC MILP Solver \n",
      "Version: Trunk (unstable) \n",
      "Build Date: Feb 24 2019 \n",
      "\n",
      "command line - C:\\Program Files\\CBC 2.10.0\\bin\\cbc.exe -printingOptions all -import C:\\Users\\mehmet\\AppData\\Local\\Temp\\tmp2x0aycxn.pyomo.lp -stat=1 -solve -solu C:\\Users\\mehmet\\AppData\\Local\\Temp\\tmp2x0aycxn.pyomo.soln (default strategy 1)\n",
      "Option for printingOptions changed from normal to all\n",
      "Presolve 45 (-28) rows, 93 (-4) columns and 159 (-31) elements\n",
      "Statistics for presolved model\n",
      "\n",
      "\n",
      "Problem has 45 rows, 93 columns (93 with objective) and 159 elements\n",
      "There are 27 singletons with objective \n",
      "Column breakdown:\n",
      "66 of type 0.0->inf, 24 of type 0.0->up, 3 of type lo->inf, \n",
      "0 of type lo->up, 0 of type free, 0 of type fixed, \n",
      "0 of type -inf->0.0, 0 of type -inf->up, 0 of type 0.0->1.0 \n",
      "Row breakdown:\n",
      "0 of type E 0.0, 0 of type E 1.0, 0 of type E -1.0, \n",
      "33 of type E other, 0 of type G 0.0, 0 of type G 1.0, \n",
      "0 of type G other, 12 of type L 0.0, 0 of type L 1.0, \n",
      "0 of type L other, 0 of type Range 0.0->1.0, 0 of type Range other, \n",
      "0 of type Free \n",
      "Presolve 45 (-28) rows, 93 (-4) columns and 159 (-31) elements\n",
      "0  Obj 18997597 Primal inf 611395.56 (34)\n",
      "35  Obj 3.0449212e+08 Primal inf 1202228.7 (27)\n",
      "71  Obj 3.9570235e+08 Primal inf 3783.5821 (1)\n",
      "72  Obj 3.9570646e+08\n",
      "Optimal - objective value 3.9570646e+08\n",
      "After Postsolve, objective 3.9570646e+08, infeasibilities - dual 0 (0), primal 0 (0)\n",
      "Optimal objective 395706458.8 - 72 iterations time 0.002, Presolve 0.00\n",
      "Total time (CPU seconds):       0.01   (Wallclock seconds):       0.01\n",
      "\n"
     ]
    },
    {
     "data": {
      "text/plain": [
       "{'Problem': [{'Name': 'unknown', 'Lower bound': 395706458.8, 'Upper bound': 395706458.8, 'Number of objectives': 1, 'Number of constraints': 73, 'Number of variables': 97, 'Number of nonzeros': 93, 'Sense': 'minimize'}], 'Solver': [{'Status': 'ok', 'User time': -1.0, 'System time': 0.01, 'Wallclock time': 0.01, 'Termination condition': 'optimal', 'Termination message': 'Model was solved to optimality (subject to tolerances), and an optimal solution is available.', 'Statistics': {'Branch and bound': {'Number of bounded subproblems': None, 'Number of created subproblems': None}, 'Black box': {'Number of iterations': 72}}, 'Error rc': 0, 'Time': 0.05585193634033203}], 'Solution': [OrderedDict([('number of solutions', 0), ('number of solutions displayed', 0)])]}"
      ]
     },
     "execution_count": 9,
     "metadata": {},
     "output_type": "execute_result"
    }
   ],
   "source": [
    "opt = pyo.SolverFactory('mosek')\n",
    "opt.solve(M_Base, tee = True)"
   ]
  },
  {
   "cell_type": "code",
   "execution_count": 14,
   "metadata": {},
   "outputs": [],
   "source": [
    "def get_results(M):\n",
    "    X = []\n",
    "    [X.append(M.X[i,t]()) for i in M.i for t in M.t]\n",
    "    X =np.reshape(X, (i,t))\n",
    "    X_df = pd.DataFrame(X.T, columns = list(prod_times.keys()))\n",
    "    \n",
    "    I = []\n",
    "    [I.append(M.I[i,t]()) for i in M.i for t in M.t]\n",
    "    I =np.reshape(I, (i,t))\n",
    "    I_df = pd.DataFrame(I.T, columns = list(prod_times.keys()))\n",
    "\n",
    "    O = []\n",
    "    [O.append(M.O[t]()) for t in M.t]\n",
    "    O =np.array(O)\n",
    "    O_df = pd.DataFrame(O.T, columns = ['Value'])\n",
    "    \n",
    "    W = []\n",
    "    [W.append(M.W[t]()) for t in M.t]\n",
    "    W =np.array(W)\n",
    "    W_df = pd.DataFrame(W.T, columns = ['Value'])\n",
    "    \n",
    "    return {'X':X_df, 'I':I_df, 'O':O_df, 'W':W_df, 'Objective': M.obj()}\n",
    "    "
   ]
  },
  {
   "cell_type": "code",
   "execution_count": null,
   "metadata": {},
   "outputs": [],
   "source": [
    "base = get_results(M_Base)\n",
    "base['Objective']"
   ]
  },
  {
   "cell_type": "markdown",
   "metadata": {},
   "source": [
    "## Extention I"
   ]
  },
  {
   "cell_type": "code",
   "execution_count": null,
   "metadata": {},
   "outputs": [],
   "source": [
    "bigM = 1000\n",
    "extra_worker_cost = [bigM]*5 + [38]*3 + [bigM]*4\n",
    "\n",
    "M_Ext1= pyo.ConcreteModel()\n",
    "M_Ext1.i = range(i)\n",
    "M_Ext1.t = range(t)\n",
    "M_Ext1.t2 = range(1,t)\n",
    "\n",
    "M_Ext1.E = pyo.Var(M_Ext1.t, domain = pyo.NonNegativeReals)\n",
    "\n",
    "def obj_ext1(model):\n",
    "    return sum(C[i,t]*model.I[i,t] for i in model.i for t in model.t) + sum(V[i,t]*model.X[i,t] for i in model.i for t in model.t) + sum(reg_cost[t]*model.W[t] for t in model.t) + sum(overtime_cost[t]*model.O[t] for t in model.t) + sum(extra_worker_cost[t]*model.E[t] for t in model.t)"
   ]
  },
  {
   "cell_type": "code",
   "execution_count": null,
   "metadata": {},
   "outputs": [],
   "source": [
    "i = 3\n",
    "t = 12\n",
    "\n",
    "M_Ext1.X = pyo.Var(M_Ext1.i, M_Ext1.t, domain = pyo.NonNegativeReals)\n",
    "M_Ext1.W = pyo.Var(M_Ext1.t, domain = pyo.NonNegativeReals)\n",
    "M_Ext1.O = pyo.Var(M_Ext1.t, domain = pyo.NonNegativeReals)\n",
    "M_Ext1.I = pyo.Var(M_Ext1.i, M_Ext1.t, domain = pyo.NonNegativeReals)\n",
    "\n",
    "\n",
    "M_Ext1.obj = pyo.Objective(rule = obj_ext1, sense= pyo.minimize)\n",
    "\n",
    "def c0_rule(model, i):\n",
    "    return model.X[i,0] + I0[i] - d[i,0] -  model.I[i,0] == 0\n",
    "def c1_rule(model, i, t2):\n",
    "    return model.X[i,t2] + model.I[i,t2-1] - d[i,t2] - model.I[i,t2] == 0\n",
    "def c2_rule(model, t):\n",
    "    return model.W[t] <= reg_workforce[t]\n",
    "def c3_rule(model, t):\n",
    "    return model.O[t] <= overtime_workforce[t]\n",
    "def c4_rule(model, t):\n",
    "    return sum(model.X[i,t]*k[i] for i in model.i) <= model.O[t] + model.W[t] + model.E[t]\n",
    "\n",
    "M_Ext1.c1 = pyo.Constraint(M_Ext1.i, M_Ext1.t2, rule = c1_rule)\n",
    "M_Ext1.c2 = pyo.Constraint(M_Ext1.t, rule = c2_rule)\n",
    "M_Ext1.c3 = pyo.Constraint(M_Ext1.t, rule = c3_rule)\n",
    "M_Ext1.c4 = pyo.Constraint(M_Ext1.t, rule = c4_rule)\n",
    "M_Ext1.c0 = pyo.Constraint(M_Ext1.i, rule = c0_rule)"
   ]
  },
  {
   "cell_type": "code",
   "execution_count": null,
   "metadata": {},
   "outputs": [],
   "source": [
    "opt.solve(M_Ext1, tee = True)"
   ]
  },
  {
   "cell_type": "code",
   "execution_count": null,
   "metadata": {},
   "outputs": [],
   "source": [
    "ext1 = get_results(M_Ext1)\n",
    "ext1['Objective']"
   ]
  },
  {
   "cell_type": "code",
   "execution_count": null,
   "metadata": {},
   "outputs": [],
   "source": [
    "ext1['I']"
   ]
  },
  {
   "cell_type": "code",
   "execution_count": null,
   "metadata": {},
   "outputs": [],
   "source": [
    "ext1['X']"
   ]
  },
  {
   "cell_type": "code",
   "execution_count": null,
   "metadata": {
    "scrolled": true
   },
   "outputs": [],
   "source": [
    "ext1['W']"
   ]
  },
  {
   "cell_type": "code",
   "execution_count": null,
   "metadata": {},
   "outputs": [],
   "source": [
    "ext1['O']"
   ]
  },
  {
   "cell_type": "code",
   "execution_count": null,
   "metadata": {},
   "outputs": [],
   "source": [
    "E = []\n",
    "[E.append(M_Ext1.E[t]()) for t in M_Ext1.t]\n",
    "E =np.array(E)\n",
    "E_df = pd.DataFrame(E.T, columns = ['Value'])\n",
    "ext1['E'] = E_df\n",
    "ext1['E']"
   ]
  },
  {
   "cell_type": "markdown",
   "metadata": {},
   "source": [
    "## Extention 2"
   ]
  },
  {
   "cell_type": "code",
   "execution_count": null,
   "metadata": {},
   "outputs": [],
   "source": [
    "max_inv = 25000"
   ]
  },
  {
   "cell_type": "code",
   "execution_count": null,
   "metadata": {},
   "outputs": [],
   "source": [
    "M_Ext2 = pyo.ConcreteModel()\n",
    "M_Ext2.i = range(i)\n",
    "M_Ext2.t = range(t)\n",
    "M_Ext2.t2 = range(1,t)\n",
    "\n",
    "M_Ext2.X = pyo.Var(M_Ext2.i, M_Ext2.t, domain = pyo.NonNegativeReals)\n",
    "M_Ext2.W = pyo.Var(M_Ext2.t, domain = pyo.NonNegativeReals)\n",
    "M_Ext2.O = pyo.Var(M_Ext2.t, domain = pyo.NonNegativeReals)\n",
    "M_Ext2.I = pyo.Var(M_Ext2.i, M_Ext2.t, domain = pyo.NonNegativeReals)\n",
    "\n",
    "def obj(model):\n",
    "    return sum(C[i,t]*model.I[i,t] for i in model.i for t in model.t) + sum(V[i,t]*model.X[i,t] for i in model.i for t in model.t) + sum(reg_cost[t]*model.W[t] for t in model.t) + sum(overtime_cost[t]*model.O[t] for t in model.t) \n",
    "\n",
    "M_Ext2.obj = pyo.Objective(rule = obj, sense= pyo.minimize)\n",
    "\n",
    "def c0_rule(model, i):\n",
    "    return model.X[i,0] + I0[i] - d[i,0] -  model.I[i,0] == 0\n",
    "def c1_rule(model, i, t2):\n",
    "    return model.X[i,t2] + model.I[i,t2-1] - d[i,t2] - model.I[i,t2] == 0\n",
    "def c2_rule(model, t):\n",
    "    return model.W[t] <= reg_workforce[t]\n",
    "def c3_rule(model, t):\n",
    "    return model.O[t] <= overtime_workforce[t]\n",
    "def c4_rule(model, t):\n",
    "    return sum(model.X[i,t]*k[i] for i in model.i) <= model.O[t] + model.W[t]\n",
    "def extention2_rule(model, t):\n",
    "    return sum(model.I[i,t] for i in model.i ) <= max_inv\n",
    "\n",
    "M_Ext2.c1 = pyo.Constraint(M_Ext2.i, M_Ext2.t2, rule = c1_rule)\n",
    "M_Ext2.c2 = pyo.Constraint(M_Ext2.t, rule = c2_rule)\n",
    "M_Ext2.c3 = pyo.Constraint(M_Ext2.t, rule = c3_rule)\n",
    "M_Ext2.c4 = pyo.Constraint(M_Ext2.t, rule = c4_rule)\n",
    "M_Ext2.c0 = pyo.Constraint(M_Ext2.i, rule = c0_rule)\n",
    "M_Ext2.c5 = pyo.Constraint(M_Ext2.t, rule = extention2_rule)"
   ]
  },
  {
   "cell_type": "code",
   "execution_count": null,
   "metadata": {},
   "outputs": [],
   "source": [
    "opt.solve(M_Ext2, tee = True)"
   ]
  },
  {
   "cell_type": "code",
   "execution_count": null,
   "metadata": {},
   "outputs": [],
   "source": [
    "ext2 = get_results(M_Ext2)\n",
    "print(ext2['Objective'])\n",
    "ext2['Objective'] - ext1['Objective'] "
   ]
  },
  {
   "cell_type": "code",
   "execution_count": null,
   "metadata": {},
   "outputs": [],
   "source": [
    "ext2['I']"
   ]
  },
  {
   "cell_type": "markdown",
   "metadata": {},
   "source": [
    "## Extention 3"
   ]
  },
  {
   "cell_type": "code",
   "execution_count": null,
   "metadata": {},
   "outputs": [],
   "source": [
    "bigM = 1000\n",
    "max_inv = 25000\n",
    "extra_worker_cost = [bigM]*5 + [38]*3 + [bigM]*4\n",
    "\n",
    "M_Ext3 = pyo.ConcreteModel()\n",
    "M_Ext3.i = range(i)\n",
    "M_Ext3.t = range(t)\n",
    "M_Ext3.t2 = range(1,t)\n",
    "\n",
    "M_Ext3.E = pyo.Var(M_Ext3.t, domain = pyo.NonNegativeReals)\n",
    "\n",
    "def obj_ext1(model):\n",
    "    return sum(C[i,t]*model.I[i,t] for i in model.i for t in model.t) + sum(V[i,t]*model.X[i,t] for i in model.i for t in model.t) + sum(reg_cost[t]*model.W[t] for t in model.t) + sum(overtime_cost[t]*model.O[t] for t in model.t) + sum(extra_worker_cost[t]*model.E[t] for t in model.t)\n",
    "\n",
    "M_Ext3.X = pyo.Var(M_Ext3.i, M_Ext3.t, domain = pyo.NonNegativeReals)\n",
    "M_Ext3.W = pyo.Var(M_Ext3.t, domain = pyo.NonNegativeReals)\n",
    "M_Ext3.O = pyo.Var(M_Ext3.t, domain = pyo.NonNegativeReals)\n",
    "M_Ext3.I = pyo.Var(M_Ext3.i, M_Ext3.t, domain = pyo.NonNegativeReals)\n",
    "\n",
    "\n",
    "M_Ext3.obj = pyo.Objective(rule = obj_ext1, sense= pyo.minimize)\n",
    "\n",
    "def c0_rule(model, i):\n",
    "    return model.X[i,0] + I0[i] - d[i,0] -  model.I[i,0] == 0\n",
    "def c1_rule(model, i, t2):\n",
    "    return model.X[i,t2] + model.I[i,t2-1] - d[i,t2] - model.I[i,t2] == 0\n",
    "def c2_rule(model, t):\n",
    "    return model.W[t] <= reg_workforce[t]\n",
    "def c3_rule(model, t):\n",
    "    return model.O[t] <= overtime_workforce[t]\n",
    "def c4_rule(model, t):\n",
    "    return sum(model.X[i,t]*k[i] for i in model.i) <= model.O[t] + model.W[t] + model.E[t]\n",
    "def extention2_rule(model, t):\n",
    "    return sum(model.I[i,t] for i in model.i ) <= max_inv\n",
    "\n",
    "M_Ext3.c1 = pyo.Constraint(M_Ext3.i, M_Ext3.t2, rule = c1_rule)\n",
    "M_Ext3.c2 = pyo.Constraint(M_Ext3.t, rule = c2_rule)\n",
    "M_Ext3.c3 = pyo.Constraint(M_Ext3.t, rule = c3_rule)\n",
    "M_Ext3.c4 = pyo.Constraint(M_Ext3.t, rule = c4_rule)\n",
    "M_Ext3.c0 = pyo.Constraint(M_Ext3.i, rule = c0_rule)\n",
    "M_Ext3.c5 = pyo.Constraint(M_Ext3.t, rule = extention2_rule)"
   ]
  },
  {
   "cell_type": "code",
   "execution_count": null,
   "metadata": {},
   "outputs": [],
   "source": [
    "opt.solve(M_Ext3, tee = True)"
   ]
  },
  {
   "cell_type": "code",
   "execution_count": null,
   "metadata": {},
   "outputs": [],
   "source": [
    "ext3 = get_results(M_Ext3)\n",
    "print(ext3['Objective'])\n",
    "ext3['Objective'] - ext2['Objective'] "
   ]
  },
  {
   "cell_type": "code",
   "execution_count": null,
   "metadata": {
    "scrolled": true
   },
   "outputs": [],
   "source": [
    "E = []\n",
    "[E.append(M_Ext3.E[t]()) for t in M_Ext3.t]\n",
    "E =np.array(E)\n",
    "E_df = pd.DataFrame(E.T, columns = ['Value'])\n",
    "ext3['E'] = E_df\n",
    "ext3['E']"
   ]
  },
  {
   "cell_type": "markdown",
   "metadata": {},
   "source": [
    "## Extention 4"
   ]
  },
  {
   "cell_type": "code",
   "execution_count": null,
   "metadata": {},
   "outputs": [],
   "source": [
    "inv_carry_rate2 = [0.01]*6 + [0.02]*6\n",
    "C2 = np.multiply(V , inv_carry_rate2)"
   ]
  },
  {
   "cell_type": "code",
   "execution_count": null,
   "metadata": {},
   "outputs": [],
   "source": [
    "M_Ext4 = pyo.ConcreteModel()\n",
    "M_Ext4.i = range(i)\n",
    "M_Ext4.t = range(t)\n",
    "M_Ext4.t2 = range(1,t)\n",
    "\n",
    "def obj(model):\n",
    "    return sum(C2[i,t]*model.I[i,t] for i in model.i for t in model.t) + sum(V[i,t]*model.X[i,t] for i in model.i for t in model.t) + sum(reg_cost[t]*model.W[t] for t in model.t) + sum(overtime_cost[t]*model.O[t] for t in model.t)\n",
    "\n",
    "M_Ext4.X = pyo.Var(M_Ext4.i, M_Ext4.t, domain = pyo.NonNegativeReals)\n",
    "M_Ext4.W = pyo.Var(M_Ext4.t, domain = pyo.NonNegativeReals)\n",
    "M_Ext4.O = pyo.Var(M_Ext4.t, domain = pyo.NonNegativeReals)\n",
    "M_Ext4.I = pyo.Var(M_Ext4.i, M_Ext4.t, domain = pyo.NonNegativeReals)\n",
    "\n",
    "\n",
    "M_Ext4.obj = pyo.Objective(rule = obj, sense= pyo.minimize)\n",
    "\n",
    "def c0_rule(model, i):\n",
    "    return model.X[i,0] + I0[i] - d[i,0] -  model.I[i,0] == 0\n",
    "def c1_rule(model, i, t2):\n",
    "    return model.X[i,t2] + model.I[i,t2-1] - d[i,t2] - model.I[i,t2] == 0\n",
    "def c2_rule(model, t):\n",
    "    return model.W[t] <= reg_workforce[t]\n",
    "def c3_rule(model, t):\n",
    "    return model.O[t] <= overtime_workforce[t]\n",
    "def c4_rule(model, t):\n",
    "    return sum(model.X[i,t]*k[i] for i in model.i) <= model.O[t] + model.W[t]\n",
    "\n",
    "M_Ext4.c1 = pyo.Constraint(M_Ext4.i, M_Ext4.t2, rule = c1_rule)\n",
    "M_Ext4.c2 = pyo.Constraint(M_Ext4.t, rule = c2_rule)\n",
    "M_Ext4.c3 = pyo.Constraint(M_Ext4.t, rule = c3_rule)\n",
    "M_Ext4.c4 = pyo.Constraint(M_Ext4.t, rule = c4_rule)\n",
    "M_Ext4.c0 = pyo.Constraint(M_Ext4.i, rule = c0_rule)\n"
   ]
  },
  {
   "cell_type": "code",
   "execution_count": null,
   "metadata": {},
   "outputs": [],
   "source": [
    "opt.solve(M_Ext4, tee = True)"
   ]
  },
  {
   "cell_type": "code",
   "execution_count": null,
   "metadata": {},
   "outputs": [],
   "source": [
    "ext4 = get_results(M_Ext4)\n",
    "print(ext4['Objective'])\n",
    "ext4['Objective'] - base['Objective']"
   ]
  },
  {
   "cell_type": "markdown",
   "metadata": {},
   "source": [
    "## Extension 5"
   ]
  },
  {
   "cell_type": "code",
   "execution_count": 23,
   "metadata": {},
   "outputs": [],
   "source": [
    "def Ext5(k_rate):\n",
    "    M_Ext5_1 = pyo.ConcreteModel()\n",
    "    M_Ext5_1.i = range(i)\n",
    "    M_Ext5_1.t = range(t)\n",
    "    M_Ext5_1.t2 = range(1,t)\n",
    "\n",
    "    M_Ext5_1.X = pyo.Var(M_Ext5_1.i, M_Ext5_1.t, domain = pyo.NonNegativeReals)\n",
    "    M_Ext5_1.W = pyo.Var(M_Ext5_1.t, domain = pyo.NonNegativeReals)\n",
    "    M_Ext5_1.O = pyo.Var(M_Ext5_1.t, domain = pyo.NonNegativeReals)\n",
    "    M_Ext5_1.I = pyo.Var(M_Ext5_1.i, M_Ext5_1.t, domain = pyo.NonNegativeReals)\n",
    "\n",
    "    def obj(model):\n",
    "        return sum(C[i,t]*model.I[i,t] for i in model.i for t in model.t) + sum(V[i,t]*model.X[i,t] for i in model.i for t in model.t) + sum(reg_cost[t]*model.W[t] for t in model.t) + sum(overtime_cost[t]*model.O[t] for t in model.t) \n",
    "\n",
    "    M_Ext5_1.obj = pyo.Objective(rule = obj, sense= pyo.minimize)\n",
    "\n",
    "    def c0_rule(model, i):\n",
    "        return model.X[i,0] + I0[i] - d[i,0] -  model.I[i,0] == 0\n",
    "    def c1_rule(model, i, t2):\n",
    "        return model.X[i,t2] + model.I[i,t2-1] - d[i,t2] - model.I[i,t2] == 0\n",
    "    def c2_rule(model, t):\n",
    "        return model.W[t] <= reg_workforce[t]\n",
    "    def c3_rule(model, t):\n",
    "        return model.O[t] <= overtime_workforce[t]\n",
    "    def c4_rule(model, t):\n",
    "        return sum(model.X[i,t]*k[i]*k_rate[i] for i in model.i) <= model.O[t] + model.W[t]\n",
    "    def extention2_rule(model, t):\n",
    "        return sum(model.I[i,t] for i in model.i ) <= max_inv\n",
    "\n",
    "    M_Ext5_1.c1 = pyo.Constraint(M_Ext5_1.i, M_Ext5_1.t2, rule = c1_rule)\n",
    "    M_Ext5_1.c2 = pyo.Constraint(M_Ext5_1.t, rule = c2_rule)\n",
    "    M_Ext5_1.c3 = pyo.Constraint(M_Ext5_1.t, rule = c3_rule)\n",
    "    M_Ext5_1.c4 = pyo.Constraint(M_Ext5_1.t, rule = c4_rule)\n",
    "    M_Ext5_1.c0 = pyo.Constraint(M_Ext5_1.i, rule = c0_rule)\n",
    "    M_Ext5_1.c5 = pyo.Constraint(M_Ext5_1.t, rule = extention2_rule)\n",
    "    \n",
    "    opt.solve(M_Ext5_1, tee = False)\n",
    "    ext5_1 = get_results(M_Ext5_1)\n",
    "    \n",
    "    return ext5_1"
   ]
  },
  {
   "cell_type": "code",
   "execution_count": 24,
   "metadata": {},
   "outputs": [],
   "source": [
    "from itertools import product\n",
    "ext5_res ={}\n",
    "for p in product((1.1, 0.9), repeat=3):\n",
    "    ext5_res[p] = Ext5(p)['Objective']\n",
    "    "
   ]
  },
  {
   "cell_type": "code",
   "execution_count": 25,
   "metadata": {},
   "outputs": [
    {
     "data": {
      "text/plain": [
       "{(1.1, 1.1, 1.1): 403033533.004255,\n",
       " (1.1, 1.1, 0.9): 400063669.36012,\n",
       " (1.1, 0.9, 1.1): 397580235.86978,\n",
       " (1.1, 0.9, 0.9): 395179299.19487,\n",
       " (0.9, 1.1, 1.1): 397061021.549275,\n",
       " (0.9, 1.1, 0.9): 394735107.7891,\n",
       " (0.9, 0.9, 1.1): 392612661.2126,\n",
       " (0.9, 0.9, 0.9): 390512284.75321996}"
      ]
     },
     "execution_count": 25,
     "metadata": {},
     "output_type": "execute_result"
    }
   ],
   "source": [
    "ext5_res"
   ]
  },
  {
   "cell_type": "markdown",
   "metadata": {},
   "source": [
    "## Extention 6"
   ]
  },
  {
   "cell_type": "code",
   "execution_count": 18,
   "metadata": {},
   "outputs": [],
   "source": [
    "bigM = 100000000\n",
    "M_Ext6 = pyo.ConcreteModel()\n",
    "M_Ext6.i = range(i)\n",
    "M_Ext6.t = range(t)\n",
    "M_Ext6.t2 = range(1,t)\n",
    "max_inv = 25000\n",
    "#update demand\n",
    "d2 = d.copy()\n",
    "d2[2,3] = 17500\n",
    "d2[2,4] =  17500\n",
    "d2[2,5] =  17500\n",
    "#Shortage Variable\n",
    "M_Ext6.S = pyo.Var(M_Ext6.i, M_Ext6.t, domain = pyo.NonNegativeReals)"
   ]
  },
  {
   "cell_type": "code",
   "execution_count": 19,
   "metadata": {},
   "outputs": [
    {
     "data": {
      "text/plain": [
       "array([[25000., 25000., 26000., 26000., 27000., 27000., 28000., 29000.,\n",
       "        30000., 30000., 30000., 30000.],\n",
       "       [18500., 19000., 20000., 21000., 20000., 19000., 18000., 17000.,\n",
       "        19000., 20000., 20500., 21000.],\n",
       "       [ 9500.,  9500.,  9500., 17500., 17500., 17500.,  6500.,  6500.,\n",
       "         6500.,  6500.,  6500.,  6500.]])"
      ]
     },
     "execution_count": 19,
     "metadata": {},
     "output_type": "execute_result"
    }
   ],
   "source": [
    "d2"
   ]
  },
  {
   "cell_type": "code",
   "execution_count": 20,
   "metadata": {},
   "outputs": [],
   "source": [
    "M_Ext6.X = pyo.Var(M_Ext6.i, M_Ext6.t, domain = pyo.NonNegativeReals)\n",
    "M_Ext6.W = pyo.Var(M_Ext6.t, domain = pyo.NonNegativeReals)\n",
    "M_Ext6.O = pyo.Var(M_Ext6.t, domain = pyo.NonNegativeReals)\n",
    "M_Ext6.I = pyo.Var(M_Ext6.i, M_Ext6.t, domain = pyo.NonNegativeReals)\n",
    "\n",
    "#Include bigM*S to ensure shortage is the latest choice of the model\n",
    "def obj_ext6(model):\n",
    "    return sum(model.S[i,t]*bigM for i in model.i for t in model.t) + sum(C[i,t]*model.I[i,t] for i in model.i for t in model.t) + sum(V[i,t]*model.X[i,t] for i in model.i for t in model.t) + sum(reg_cost[t]*model.W[t] for t in model.t) + sum(overtime_cost[t]*model.O[t] for t in model.t) \n",
    "\n",
    "M_Ext6.obj = pyo.Objective(rule = obj_ext6, sense= pyo.minimize) #obj_ext6, sense= pyo.minimize)\n",
    "\n",
    "#Update demand constraints (c0, c1) to include shortages\n",
    "def c0_rule(model, i):\n",
    "    return model.X[i,0] + I0[i] - d2[i,0] -  model.I[i,0] + model.S[i,0] == 0\n",
    "def c1_rule(model, i, t2):\n",
    "    return model.X[i,t2] + model.I[i,t2-1] - d2[i,t2] - model.I[i,t2] + model.S[i,t2] == 0\n",
    "def c2_rule(model, t):\n",
    "    return model.W[t] <= reg_workforce[t]\n",
    "def c3_rule(model, t):\n",
    "    return model.O[t] <= overtime_workforce[t]\n",
    "def c4_rule(model, t):\n",
    "    return sum(model.X[i,t]*k[i] for i in model.i) <= model.O[t] + model.W[t]\n",
    "def extention2_rule(model, t):\n",
    "    return sum(model.I[i,t] for i in model.i ) <= max_inv\n",
    "\n",
    "M_Ext6.c1 = pyo.Constraint(M_Ext6.i, M_Ext6.t2, rule = c1_rule)\n",
    "M_Ext6.c2 = pyo.Constraint(M_Ext6.t, rule = c2_rule)\n",
    "M_Ext6.c3 = pyo.Constraint(M_Ext6.t, rule = c3_rule)\n",
    "M_Ext6.c4 = pyo.Constraint(M_Ext6.t, rule = c4_rule)\n",
    "M_Ext6.c0 = pyo.Constraint(M_Ext6.i, rule = c0_rule)\n",
    "M_Ext6.c5 = pyo.Constraint(M_Ext6.t, rule = extention2_rule)\n"
   ]
  },
  {
   "cell_type": "code",
   "execution_count": 21,
   "metadata": {},
   "outputs": [
    {
     "name": "stdout",
     "output_type": "stream",
     "text": [
      "Welcome to the CBC MILP Solver \n",
      "Version: Trunk (unstable) \n",
      "Build Date: Feb 24 2019 \n",
      "\n",
      "command line - C:\\Program Files\\CBC 2.10.0\\bin\\cbc.exe -printingOptions all -import C:\\Users\\mehmet\\AppData\\Local\\Temp\\tmplajyoh66.pyomo.lp -stat=1 -solve -solu C:\\Users\\mehmet\\AppData\\Local\\Temp\\tmplajyoh66.pyomo.soln (default strategy 1)\n",
      "Option for printingOptions changed from normal to all\n",
      "Presolve 60 (-25) rows, 132 (-1) columns and 237 (-25) elements\n",
      "Statistics for presolved model\n",
      "\n",
      "\n",
      "Problem has 60 rows, 132 columns (132 with objective) and 237 elements\n",
      "There are 60 singletons with objective \n",
      "Column breakdown:\n",
      "108 of type 0.0->inf, 24 of type 0.0->up, 0 of type lo->inf, \n",
      "0 of type lo->up, 0 of type free, 0 of type fixed, \n",
      "0 of type -inf->0.0, 0 of type -inf->up, 0 of type 0.0->1.0 \n",
      "Row breakdown:\n",
      "0 of type E 0.0, 0 of type E 1.0, 0 of type E -1.0, \n",
      "36 of type E other, 0 of type G 0.0, 0 of type G 1.0, \n",
      "0 of type G other, 12 of type L 0.0, 0 of type L 1.0, \n",
      "12 of type L other, 0 of type Range 0.0->1.0, 0 of type Range other, \n",
      "0 of type Free \n",
      "Presolve 60 (-25) rows, 132 (-1) columns and 237 (-25) elements\n",
      "0  Obj 0 Primal inf 664500 (36)\n",
      "47  Obj 3.6692826e+08 Primal inf 203698.59 (21)\n",
      "80  Obj 2.8176724e+11 Primal inf 893.67649 (2)\n",
      "82  Obj 2.8176727e+11\n",
      "Optimal - objective value 2.8176727e+11\n",
      "After Postsolve, objective 2.8176727e+11, infeasibilities - dual 0 (0), primal 0 (0)\n",
      "Optimal objective 2.817672689e+11 - 82 iterations time 0.002, Presolve 0.00\n",
      "Total time (CPU seconds):       0.01   (Wallclock seconds):       0.01\n",
      "\n"
     ]
    },
    {
     "data": {
      "text/plain": [
       "{'Problem': [{'Name': 'unknown', 'Lower bound': 281767268900.0, 'Upper bound': 281767268900.0, 'Number of objectives': 1, 'Number of constraints': 85, 'Number of variables': 133, 'Number of nonzeros': 132, 'Sense': 'minimize'}], 'Solver': [{'Status': 'ok', 'User time': -1.0, 'System time': 0.01, 'Wallclock time': 0.01, 'Termination condition': 'optimal', 'Termination message': 'Model was solved to optimality (subject to tolerances), and an optimal solution is available.', 'Statistics': {'Branch and bound': {'Number of bounded subproblems': None, 'Number of created subproblems': None}, 'Black box': {'Number of iterations': 82}}, 'Error rc': 0, 'Time': 0.0578458309173584}], 'Solution': [OrderedDict([('number of solutions', 0), ('number of solutions displayed', 0)])]}"
      ]
     },
     "execution_count": 21,
     "metadata": {},
     "output_type": "execute_result"
    }
   ],
   "source": [
    "opt.solve(M_Ext6, tee = True)"
   ]
  },
  {
   "cell_type": "code",
   "execution_count": 15,
   "metadata": {
    "scrolled": true
   },
   "outputs": [
    {
     "data": {
      "text/plain": [
       "2531767192164.099"
      ]
     },
     "execution_count": 15,
     "metadata": {},
     "output_type": "execute_result"
    }
   ],
   "source": [
    "ext6 = get_results(M_Ext6)\n",
    "ext6['Objective']"
   ]
  },
  {
   "cell_type": "code",
   "execution_count": 22,
   "metadata": {
    "scrolled": true
   },
   "outputs": [
    {
     "data": {
      "text/html": [
       "<div>\n",
       "<style scoped>\n",
       "    .dataframe tbody tr th:only-of-type {\n",
       "        vertical-align: middle;\n",
       "    }\n",
       "\n",
       "    .dataframe tbody tr th {\n",
       "        vertical-align: top;\n",
       "    }\n",
       "\n",
       "    .dataframe thead th {\n",
       "        text-align: right;\n",
       "    }\n",
       "</style>\n",
       "<table border=\"1\" class=\"dataframe\">\n",
       "  <thead>\n",
       "    <tr style=\"text-align: right;\">\n",
       "      <th></th>\n",
       "      <th>Single70</th>\n",
       "      <th>Double70</th>\n",
       "      <th>Double80</th>\n",
       "    </tr>\n",
       "  </thead>\n",
       "  <tbody>\n",
       "    <tr>\n",
       "      <th>0</th>\n",
       "      <td>0.0</td>\n",
       "      <td>0.0</td>\n",
       "      <td>0.0000</td>\n",
       "    </tr>\n",
       "    <tr>\n",
       "      <th>1</th>\n",
       "      <td>0.0</td>\n",
       "      <td>0.0</td>\n",
       "      <td>0.0000</td>\n",
       "    </tr>\n",
       "    <tr>\n",
       "      <th>2</th>\n",
       "      <td>0.0</td>\n",
       "      <td>0.0</td>\n",
       "      <td>0.0000</td>\n",
       "    </tr>\n",
       "    <tr>\n",
       "      <th>3</th>\n",
       "      <td>0.0</td>\n",
       "      <td>0.0</td>\n",
       "      <td>0.0000</td>\n",
       "    </tr>\n",
       "    <tr>\n",
       "      <th>4</th>\n",
       "      <td>0.0</td>\n",
       "      <td>0.0</td>\n",
       "      <td>0.0000</td>\n",
       "    </tr>\n",
       "    <tr>\n",
       "      <th>5</th>\n",
       "      <td>0.0</td>\n",
       "      <td>0.0</td>\n",
       "      <td>2813.4328</td>\n",
       "    </tr>\n",
       "    <tr>\n",
       "      <th>6</th>\n",
       "      <td>0.0</td>\n",
       "      <td>0.0</td>\n",
       "      <td>0.0000</td>\n",
       "    </tr>\n",
       "    <tr>\n",
       "      <th>7</th>\n",
       "      <td>0.0</td>\n",
       "      <td>0.0</td>\n",
       "      <td>0.0000</td>\n",
       "    </tr>\n",
       "    <tr>\n",
       "      <th>8</th>\n",
       "      <td>0.0</td>\n",
       "      <td>0.0</td>\n",
       "      <td>0.0000</td>\n",
       "    </tr>\n",
       "    <tr>\n",
       "      <th>9</th>\n",
       "      <td>0.0</td>\n",
       "      <td>0.0</td>\n",
       "      <td>0.0000</td>\n",
       "    </tr>\n",
       "    <tr>\n",
       "      <th>10</th>\n",
       "      <td>0.0</td>\n",
       "      <td>0.0</td>\n",
       "      <td>0.0000</td>\n",
       "    </tr>\n",
       "    <tr>\n",
       "      <th>11</th>\n",
       "      <td>0.0</td>\n",
       "      <td>0.0</td>\n",
       "      <td>0.0000</td>\n",
       "    </tr>\n",
       "  </tbody>\n",
       "</table>\n",
       "</div>"
      ],
      "text/plain": [
       "    Single70  Double70   Double80\n",
       "0        0.0       0.0     0.0000\n",
       "1        0.0       0.0     0.0000\n",
       "2        0.0       0.0     0.0000\n",
       "3        0.0       0.0     0.0000\n",
       "4        0.0       0.0     0.0000\n",
       "5        0.0       0.0  2813.4328\n",
       "6        0.0       0.0     0.0000\n",
       "7        0.0       0.0     0.0000\n",
       "8        0.0       0.0     0.0000\n",
       "9        0.0       0.0     0.0000\n",
       "10       0.0       0.0     0.0000\n",
       "11       0.0       0.0     0.0000"
      ]
     },
     "execution_count": 22,
     "metadata": {},
     "output_type": "execute_result"
    }
   ],
   "source": [
    "S = []\n",
    "[S.append(M_Ext6.S[i,t]()) for i in M_Ext6.i for t in M_Ext6.t]\n",
    "S =np.reshape(S, (i,t))\n",
    "S_df = pd.DataFrame(S.T, columns = list(prod_times.keys()))\n",
    "ext6['S'] = S_df\n",
    "ext6['S']"
   ]
  },
  {
   "cell_type": "code",
   "execution_count": null,
   "metadata": {},
   "outputs": [],
   "source": [
    "ext6['I']"
   ]
  },
  {
   "cell_type": "code",
   "execution_count": null,
   "metadata": {},
   "outputs": [],
   "source": [
    "ext6['X']"
   ]
  },
  {
   "cell_type": "code",
   "execution_count": null,
   "metadata": {},
   "outputs": [],
   "source": [
    "M_Base.display()"
   ]
  },
  {
   "cell_type": "code",
   "execution_count": null,
   "metadata": {},
   "outputs": [],
   "source": [
    "M_Base.pprint()"
   ]
  },
  {
   "cell_type": "code",
   "execution_count": null,
   "metadata": {},
   "outputs": [],
   "source": []
  }
 ],
 "metadata": {
  "kernelspec": {
   "display_name": "Python 3",
   "language": "python",
   "name": "python3"
  },
  "language_info": {
   "codemirror_mode": {
    "name": "ipython",
    "version": 3
   },
   "file_extension": ".py",
   "mimetype": "text/x-python",
   "name": "python",
   "nbconvert_exporter": "python",
   "pygments_lexer": "ipython3",
   "version": "3.7.1"
  },
  "toc": {
   "base_numbering": 1,
   "nav_menu": {},
   "number_sections": false,
   "sideBar": true,
   "skip_h1_title": false,
   "title_cell": "Table of Contents",
   "title_sidebar": "Contents",
   "toc_cell": false,
   "toc_position": {
    "height": "calc(100% - 180px)",
    "left": "10px",
    "top": "150px",
    "width": "307.2px"
   },
   "toc_section_display": true,
   "toc_window_display": true
  },
  "varInspector": {
   "cols": {
    "lenName": 16,
    "lenType": 16,
    "lenVar": 40
   },
   "kernels_config": {
    "python": {
     "delete_cmd_postfix": "",
     "delete_cmd_prefix": "del ",
     "library": "var_list.py",
     "varRefreshCmd": "print(var_dic_list())"
    },
    "r": {
     "delete_cmd_postfix": ") ",
     "delete_cmd_prefix": "rm(",
     "library": "var_list.r",
     "varRefreshCmd": "cat(var_dic_list()) "
    }
   },
   "types_to_exclude": [
    "module",
    "function",
    "builtin_function_or_method",
    "instance",
    "_Feature"
   ],
   "window_display": false
  }
 },
 "nbformat": 4,
 "nbformat_minor": 4
}
