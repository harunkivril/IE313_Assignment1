{
 "cells": [
  {
   "cell_type": "markdown",
   "metadata": {},
   "source": [
    "# Assignment 1"
   ]
  },
  {
   "cell_type": "code",
   "execution_count": 1,
   "metadata": {},
   "outputs": [],
   "source": [
    "import pandas as pd\n",
    "import numpy as np"
   ]
  },
  {
   "cell_type": "code",
   "execution_count": 2,
   "metadata": {},
   "outputs": [
    {
     "data": {
      "text/html": [
       "<div>\n",
       "<style scoped>\n",
       "    .dataframe tbody tr th:only-of-type {\n",
       "        vertical-align: middle;\n",
       "    }\n",
       "\n",
       "    .dataframe tbody tr th {\n",
       "        vertical-align: top;\n",
       "    }\n",
       "\n",
       "    .dataframe thead tr th {\n",
       "        text-align: left;\n",
       "    }\n",
       "</style>\n",
       "<table border=\"1\" class=\"dataframe\">\n",
       "  <thead>\n",
       "    <tr>\n",
       "      <th></th>\n",
       "      <th>Unnamed: 0_level_0</th>\n",
       "      <th colspan=\"2\" halign=\"left\">Single70</th>\n",
       "      <th colspan=\"2\" halign=\"left\">Double70</th>\n",
       "      <th colspan=\"2\" halign=\"left\">Double80</th>\n",
       "    </tr>\n",
       "    <tr>\n",
       "      <th></th>\n",
       "      <th>Months</th>\n",
       "      <th>Sales\\nForecast\\n(Units)</th>\n",
       "      <th>Production\\nCost ($/unit)</th>\n",
       "      <th>Sales\\nForecast\\n(Units)</th>\n",
       "      <th>Production\\nCost ($/unit)</th>\n",
       "      <th>Sales\\nForecast\\n(Units)</th>\n",
       "      <th>Production\\nCost ($/unit)</th>\n",
       "    </tr>\n",
       "  </thead>\n",
       "  <tbody>\n",
       "    <tr>\n",
       "      <th>0</th>\n",
       "      <td>Jan</td>\n",
       "      <td>25000.0</td>\n",
       "      <td>450.0</td>\n",
       "      <td>18500.0</td>\n",
       "      <td>650.0</td>\n",
       "      <td>9500.0</td>\n",
       "      <td>810.0</td>\n",
       "    </tr>\n",
       "    <tr>\n",
       "      <th>1</th>\n",
       "      <td>Feb</td>\n",
       "      <td>25000.0</td>\n",
       "      <td>450.0</td>\n",
       "      <td>19000.0</td>\n",
       "      <td>650.0</td>\n",
       "      <td>9500.0</td>\n",
       "      <td>810.0</td>\n",
       "    </tr>\n",
       "    <tr>\n",
       "      <th>2</th>\n",
       "      <td>Mar</td>\n",
       "      <td>26000.0</td>\n",
       "      <td>450.0</td>\n",
       "      <td>20000.0</td>\n",
       "      <td>650.0</td>\n",
       "      <td>9500.0</td>\n",
       "      <td>880.0</td>\n",
       "    </tr>\n",
       "    <tr>\n",
       "      <th>3</th>\n",
       "      <td>Apr</td>\n",
       "      <td>26000.0</td>\n",
       "      <td>475.0</td>\n",
       "      <td>21000.0</td>\n",
       "      <td>625.0</td>\n",
       "      <td>7500.0</td>\n",
       "      <td>880.0</td>\n",
       "    </tr>\n",
       "    <tr>\n",
       "      <th>4</th>\n",
       "      <td>May</td>\n",
       "      <td>27000.0</td>\n",
       "      <td>475.0</td>\n",
       "      <td>20000.0</td>\n",
       "      <td>600.0</td>\n",
       "      <td>7500.0</td>\n",
       "      <td>880.0</td>\n",
       "    </tr>\n",
       "    <tr>\n",
       "      <th>5</th>\n",
       "      <td>Jun</td>\n",
       "      <td>27000.0</td>\n",
       "      <td>475.0</td>\n",
       "      <td>19000.0</td>\n",
       "      <td>590.0</td>\n",
       "      <td>7500.0</td>\n",
       "      <td>880.0</td>\n",
       "    </tr>\n",
       "    <tr>\n",
       "      <th>6</th>\n",
       "      <td>Jul</td>\n",
       "      <td>28000.0</td>\n",
       "      <td>500.0</td>\n",
       "      <td>18000.0</td>\n",
       "      <td>580.0</td>\n",
       "      <td>6500.0</td>\n",
       "      <td>880.0</td>\n",
       "    </tr>\n",
       "    <tr>\n",
       "      <th>7</th>\n",
       "      <td>Aug</td>\n",
       "      <td>29000.0</td>\n",
       "      <td>500.0</td>\n",
       "      <td>17000.0</td>\n",
       "      <td>550.0</td>\n",
       "      <td>6500.0</td>\n",
       "      <td>840.0</td>\n",
       "    </tr>\n",
       "    <tr>\n",
       "      <th>8</th>\n",
       "      <td>Sep</td>\n",
       "      <td>30000.0</td>\n",
       "      <td>500.0</td>\n",
       "      <td>19000.0</td>\n",
       "      <td>550.0</td>\n",
       "      <td>6500.0</td>\n",
       "      <td>840.0</td>\n",
       "    </tr>\n",
       "    <tr>\n",
       "      <th>9</th>\n",
       "      <td>Oct</td>\n",
       "      <td>30000.0</td>\n",
       "      <td>400.0</td>\n",
       "      <td>20000.0</td>\n",
       "      <td>550.0</td>\n",
       "      <td>6500.0</td>\n",
       "      <td>840.0</td>\n",
       "    </tr>\n",
       "    <tr>\n",
       "      <th>10</th>\n",
       "      <td>Nov</td>\n",
       "      <td>30000.0</td>\n",
       "      <td>400.0</td>\n",
       "      <td>20500.0</td>\n",
       "      <td>610.0</td>\n",
       "      <td>6500.0</td>\n",
       "      <td>880.0</td>\n",
       "    </tr>\n",
       "    <tr>\n",
       "      <th>11</th>\n",
       "      <td>Dec</td>\n",
       "      <td>30000.0</td>\n",
       "      <td>400.0</td>\n",
       "      <td>21000.0</td>\n",
       "      <td>640.0</td>\n",
       "      <td>6500.0</td>\n",
       "      <td>880.0</td>\n",
       "    </tr>\n",
       "  </tbody>\n",
       "</table>\n",
       "</div>"
      ],
      "text/plain": [
       "   Unnamed: 0_level_0                 Single70                            \\\n",
       "               Months Sales\\nForecast\\n(Units) Production\\nCost ($/unit)   \n",
       "0                 Jan                  25000.0                     450.0   \n",
       "1                 Feb                  25000.0                     450.0   \n",
       "2                 Mar                  26000.0                     450.0   \n",
       "3                 Apr                  26000.0                     475.0   \n",
       "4                 May                  27000.0                     475.0   \n",
       "5                 Jun                  27000.0                     475.0   \n",
       "6                 Jul                  28000.0                     500.0   \n",
       "7                 Aug                  29000.0                     500.0   \n",
       "8                 Sep                  30000.0                     500.0   \n",
       "9                 Oct                  30000.0                     400.0   \n",
       "10                Nov                  30000.0                     400.0   \n",
       "11                Dec                  30000.0                     400.0   \n",
       "\n",
       "                   Double70                            \\\n",
       "   Sales\\nForecast\\n(Units) Production\\nCost ($/unit)   \n",
       "0                   18500.0                     650.0   \n",
       "1                   19000.0                     650.0   \n",
       "2                   20000.0                     650.0   \n",
       "3                   21000.0                     625.0   \n",
       "4                   20000.0                     600.0   \n",
       "5                   19000.0                     590.0   \n",
       "6                   18000.0                     580.0   \n",
       "7                   17000.0                     550.0   \n",
       "8                   19000.0                     550.0   \n",
       "9                   20000.0                     550.0   \n",
       "10                  20500.0                     610.0   \n",
       "11                  21000.0                     640.0   \n",
       "\n",
       "                   Double80                            \n",
       "   Sales\\nForecast\\n(Units) Production\\nCost ($/unit)  \n",
       "0                    9500.0                     810.0  \n",
       "1                    9500.0                     810.0  \n",
       "2                    9500.0                     880.0  \n",
       "3                    7500.0                     880.0  \n",
       "4                    7500.0                     880.0  \n",
       "5                    7500.0                     880.0  \n",
       "6                    6500.0                     880.0  \n",
       "7                    6500.0                     840.0  \n",
       "8                    6500.0                     840.0  \n",
       "9                    6500.0                     840.0  \n",
       "10                   6500.0                     880.0  \n",
       "11                   6500.0                     880.0  "
      ]
     },
     "execution_count": 2,
     "metadata": {},
     "output_type": "execute_result"
    }
   ],
   "source": [
    "data = pd.read_excel('../Assignment1_2020.xlsx', header = [0,1])[:12]\n",
    "data"
   ]
  },
  {
   "cell_type": "code",
   "execution_count": 3,
   "metadata": {},
   "outputs": [
    {
     "data": {
      "text/html": [
       "<div>\n",
       "<style scoped>\n",
       "    .dataframe tbody tr th:only-of-type {\n",
       "        vertical-align: middle;\n",
       "    }\n",
       "\n",
       "    .dataframe tbody tr th {\n",
       "        vertical-align: top;\n",
       "    }\n",
       "\n",
       "    .dataframe thead tr th {\n",
       "        text-align: left;\n",
       "    }\n",
       "</style>\n",
       "<table border=\"1\" class=\"dataframe\">\n",
       "  <thead>\n",
       "    <tr>\n",
       "      <th></th>\n",
       "      <th>Unnamed: 0_level_0</th>\n",
       "      <th colspan=\"2\" halign=\"left\">Single70</th>\n",
       "      <th colspan=\"2\" halign=\"left\">Double70</th>\n",
       "      <th colspan=\"2\" halign=\"left\">Double80</th>\n",
       "    </tr>\n",
       "    <tr>\n",
       "      <th></th>\n",
       "      <th>Months</th>\n",
       "      <th>SalesForecast</th>\n",
       "      <th>ProductionCost</th>\n",
       "      <th>SalesForecast</th>\n",
       "      <th>ProductionCost</th>\n",
       "      <th>SalesForecast</th>\n",
       "      <th>ProductionCost</th>\n",
       "    </tr>\n",
       "  </thead>\n",
       "  <tbody>\n",
       "    <tr>\n",
       "      <th>0</th>\n",
       "      <td>Jan</td>\n",
       "      <td>25000.0</td>\n",
       "      <td>450.0</td>\n",
       "      <td>18500.0</td>\n",
       "      <td>650.0</td>\n",
       "      <td>9500.0</td>\n",
       "      <td>810.0</td>\n",
       "    </tr>\n",
       "    <tr>\n",
       "      <th>1</th>\n",
       "      <td>Feb</td>\n",
       "      <td>25000.0</td>\n",
       "      <td>450.0</td>\n",
       "      <td>19000.0</td>\n",
       "      <td>650.0</td>\n",
       "      <td>9500.0</td>\n",
       "      <td>810.0</td>\n",
       "    </tr>\n",
       "    <tr>\n",
       "      <th>2</th>\n",
       "      <td>Mar</td>\n",
       "      <td>26000.0</td>\n",
       "      <td>450.0</td>\n",
       "      <td>20000.0</td>\n",
       "      <td>650.0</td>\n",
       "      <td>9500.0</td>\n",
       "      <td>880.0</td>\n",
       "    </tr>\n",
       "    <tr>\n",
       "      <th>3</th>\n",
       "      <td>Apr</td>\n",
       "      <td>26000.0</td>\n",
       "      <td>475.0</td>\n",
       "      <td>21000.0</td>\n",
       "      <td>625.0</td>\n",
       "      <td>7500.0</td>\n",
       "      <td>880.0</td>\n",
       "    </tr>\n",
       "    <tr>\n",
       "      <th>4</th>\n",
       "      <td>May</td>\n",
       "      <td>27000.0</td>\n",
       "      <td>475.0</td>\n",
       "      <td>20000.0</td>\n",
       "      <td>600.0</td>\n",
       "      <td>7500.0</td>\n",
       "      <td>880.0</td>\n",
       "    </tr>\n",
       "    <tr>\n",
       "      <th>5</th>\n",
       "      <td>Jun</td>\n",
       "      <td>27000.0</td>\n",
       "      <td>475.0</td>\n",
       "      <td>19000.0</td>\n",
       "      <td>590.0</td>\n",
       "      <td>7500.0</td>\n",
       "      <td>880.0</td>\n",
       "    </tr>\n",
       "    <tr>\n",
       "      <th>6</th>\n",
       "      <td>Jul</td>\n",
       "      <td>28000.0</td>\n",
       "      <td>500.0</td>\n",
       "      <td>18000.0</td>\n",
       "      <td>580.0</td>\n",
       "      <td>6500.0</td>\n",
       "      <td>880.0</td>\n",
       "    </tr>\n",
       "    <tr>\n",
       "      <th>7</th>\n",
       "      <td>Aug</td>\n",
       "      <td>29000.0</td>\n",
       "      <td>500.0</td>\n",
       "      <td>17000.0</td>\n",
       "      <td>550.0</td>\n",
       "      <td>6500.0</td>\n",
       "      <td>840.0</td>\n",
       "    </tr>\n",
       "    <tr>\n",
       "      <th>8</th>\n",
       "      <td>Sep</td>\n",
       "      <td>30000.0</td>\n",
       "      <td>500.0</td>\n",
       "      <td>19000.0</td>\n",
       "      <td>550.0</td>\n",
       "      <td>6500.0</td>\n",
       "      <td>840.0</td>\n",
       "    </tr>\n",
       "    <tr>\n",
       "      <th>9</th>\n",
       "      <td>Oct</td>\n",
       "      <td>30000.0</td>\n",
       "      <td>400.0</td>\n",
       "      <td>20000.0</td>\n",
       "      <td>550.0</td>\n",
       "      <td>6500.0</td>\n",
       "      <td>840.0</td>\n",
       "    </tr>\n",
       "    <tr>\n",
       "      <th>10</th>\n",
       "      <td>Nov</td>\n",
       "      <td>30000.0</td>\n",
       "      <td>400.0</td>\n",
       "      <td>20500.0</td>\n",
       "      <td>610.0</td>\n",
       "      <td>6500.0</td>\n",
       "      <td>880.0</td>\n",
       "    </tr>\n",
       "    <tr>\n",
       "      <th>11</th>\n",
       "      <td>Dec</td>\n",
       "      <td>30000.0</td>\n",
       "      <td>400.0</td>\n",
       "      <td>21000.0</td>\n",
       "      <td>640.0</td>\n",
       "      <td>6500.0</td>\n",
       "      <td>880.0</td>\n",
       "    </tr>\n",
       "  </tbody>\n",
       "</table>\n",
       "</div>"
      ],
      "text/plain": [
       "   Unnamed: 0_level_0      Single70                     Double70  \\\n",
       "               Months SalesForecast ProductionCost SalesForecast   \n",
       "0                 Jan       25000.0          450.0       18500.0   \n",
       "1                 Feb       25000.0          450.0       19000.0   \n",
       "2                 Mar       26000.0          450.0       20000.0   \n",
       "3                 Apr       26000.0          475.0       21000.0   \n",
       "4                 May       27000.0          475.0       20000.0   \n",
       "5                 Jun       27000.0          475.0       19000.0   \n",
       "6                 Jul       28000.0          500.0       18000.0   \n",
       "7                 Aug       29000.0          500.0       17000.0   \n",
       "8                 Sep       30000.0          500.0       19000.0   \n",
       "9                 Oct       30000.0          400.0       20000.0   \n",
       "10                Nov       30000.0          400.0       20500.0   \n",
       "11                Dec       30000.0          400.0       21000.0   \n",
       "\n",
       "                       Double80                 \n",
       "   ProductionCost SalesForecast ProductionCost  \n",
       "0           650.0        9500.0          810.0  \n",
       "1           650.0        9500.0          810.0  \n",
       "2           650.0        9500.0          880.0  \n",
       "3           625.0        7500.0          880.0  \n",
       "4           600.0        7500.0          880.0  \n",
       "5           590.0        7500.0          880.0  \n",
       "6           580.0        6500.0          880.0  \n",
       "7           550.0        6500.0          840.0  \n",
       "8           550.0        6500.0          840.0  \n",
       "9           550.0        6500.0          840.0  \n",
       "10          610.0        6500.0          880.0  \n",
       "11          640.0        6500.0          880.0  "
      ]
     },
     "execution_count": 3,
     "metadata": {},
     "output_type": "execute_result"
    }
   ],
   "source": [
    "data = data.rename(columns={\"Sales\\nForecast\\n(Units)\":\"SalesForecast\", \"Production\\nCost ($/unit)\":\"ProductionCost\"})\n",
    "data"
   ]
  },
  {
   "cell_type": "code",
   "execution_count": 4,
   "metadata": {},
   "outputs": [],
   "source": [
    "inv_car = np.r_[[0.01]*6,[0.013]*6]\n",
    "prod_time = np.r_[1.65,2.15,2.68]\n",
    "reg_wf = np.r_[[90000]*6,[100000]*6]\n",
    "overtime_wf = reg_wf*0.25\n",
    "reg_cost = np.r_[[30]*6,[35]*6]\n",
    "overtime_cost = reg_cost*1.5\n",
    "init_inv = np.r_[6500,12000,3000]"
   ]
  },
  {
   "cell_type": "code",
   "execution_count": 5,
   "metadata": {},
   "outputs": [],
   "source": [
    "prod_cost = pd.concat([data.Single70.ProductionCost, data.Double70.ProductionCost, data.Double80.ProductionCost],axis=1).values\n",
    "sales_forecast = pd.concat([data.Single70.SalesForecast, data.Double70.SalesForecast, data.Double80.SalesForecast],axis=1).values\n",
    "\n",
    "IC = inv_car.reshape((12,1))*prod_cost"
   ]
  },
  {
   "cell_type": "markdown",
   "metadata": {},
   "source": [
    "## Base Model"
   ]
  },
  {
   "cell_type": "code",
   "execution_count": 6,
   "metadata": {},
   "outputs": [],
   "source": [
    "import pyomo.environ as pyo\n",
    "\n",
    "p = 3\n",
    "t=12\n",
    "\n",
    "objRule = lambda model : sum(model.X[t,p]*prod_cost[t,p] for t in model.t for p in model.p) + sum(model.I[t+1,p]*IC[t,p] for t in model.t for p in model.p) + sum(model.W[t]*reg_cost[t] for t in model.t) + sum(model.O[t]*overtime_cost[t] for t in model.t)\n",
    "\n",
    "# Inv holding\n",
    "c0 = lambda model, t, p : model.X[t,p]+model.I[t,p]-sales_forecast[t,p] == model.I[t+1,p]\n",
    "# No shortage constraint is also applied with nonnegative inventory\n",
    "\n",
    "# Production-workforce time\n",
    "c1 = lambda model, t: sum(model.X[t,p]*prod_time[p] for p in model.p) <= model.W[t] + model.O[t]\n",
    "\n",
    "# Overtime constraint\n",
    "c2 = lambda model, t: model.O[t] <= overtime_wf[t]\n",
    "\n",
    "# Initial inv\n",
    "c3 = lambda model, p : model.I[0,p] == init_inv[p]\n",
    "\n",
    "# Regular workforce:\n",
    "c4 = lambda model, t : model.W[t] <= reg_wf[t]\n",
    "\n",
    "def constructBaseModel(model):\n",
    "    model.p = range(p)\n",
    "    model.t = range(t)\n",
    "    model.t2 = range(t+1)\n",
    "\n",
    "    model.X = pyo.Var(model.t, model.p, domain=pyo.NonNegativeReals)\n",
    "    model.I = pyo.Var(model.t2, model.p, domain=pyo.NonNegativeReals)\n",
    "    model.W = pyo.Var(model.t, domain=pyo.NonNegativeReals)\n",
    "    model.O = pyo.Var(model.t, domain=pyo.NonNegativeReals)\n",
    "    \n",
    "    model.obj = pyo.Objective(rule = objRule, sense=pyo.minimize)\n",
    "    \n",
    "    model.c0 = pyo.Constraint(model.t, model.p, rule=c0)\n",
    "    model.c1 = pyo.Constraint(model.t, rule=c1)\n",
    "    model.c2 = pyo.Constraint(model.t, rule=c2)\n",
    "    model.c3 = pyo.Constraint(model.p, rule=c3)\n",
    "    model.c4 = pyo.Constraint(model.t, rule=c4)"
   ]
  },
  {
   "cell_type": "code",
   "execution_count": 7,
   "metadata": {},
   "outputs": [
    {
     "name": "stdout",
     "output_type": "stream",
     "text": [
      "Welcome to the CBC MILP Solver \n",
      "Version: Trunk (unstable) \n",
      "Build Date: Feb 24 2019 \n",
      "\n",
      "command line - C:\\Program Files\\CBC 2.10.0\\bin\\cbc.exe -printingOptions all -import C:\\Users\\mehmet\\AppData\\Local\\Temp\\tmptj2aib__.pyomo.lp -stat=1 -solve -solu C:\\Users\\mehmet\\AppData\\Local\\Temp\\tmptj2aib__.pyomo.soln (default strategy 1)\n",
      "Option for printingOptions changed from normal to all\n",
      "Presolve 45 (-31) rows, 93 (-7) columns and 159 (-37) elements\n",
      "Statistics for presolved model\n",
      "\n",
      "\n",
      "Problem has 45 rows, 93 columns (93 with objective) and 159 elements\n",
      "There are 27 singletons with objective \n",
      "Column breakdown:\n",
      "66 of type 0.0->inf, 24 of type 0.0->up, 3 of type lo->inf, \n",
      "0 of type lo->up, 0 of type free, 0 of type fixed, \n",
      "0 of type -inf->0.0, 0 of type -inf->up, 0 of type 0.0->1.0 \n",
      "Row breakdown:\n",
      "0 of type E 0.0, 0 of type E 1.0, 0 of type E -1.0, \n",
      "33 of type E other, 0 of type G 0.0, 0 of type G 1.0, \n",
      "0 of type G other, 12 of type L 0.0, 0 of type L 1.0, \n",
      "0 of type L other, 0 of type Range 0.0->1.0, 0 of type Range other, \n",
      "0 of type Free \n",
      "Presolve 45 (-31) rows, 93 (-7) columns and 159 (-37) elements\n",
      "0  Obj 18997597 Primal inf 611395.56 (34)\n",
      "33  Obj 2.868441e+08 Primal inf 1002746.6 (23)\n",
      "66  Obj 3.82345e+08 Primal inf 136328.05 (10)\n",
      "73  Obj 3.9570646e+08\n",
      "Optimal - objective value 3.9570646e+08\n",
      "After Postsolve, objective 3.9570646e+08, infeasibilities - dual 0 (0), primal 0 (0)\n",
      "Optimal objective 395706458.8 - 73 iterations time 0.002, Presolve 0.00\n",
      "Total time (CPU seconds):       0.00   (Wallclock seconds):       0.01\n",
      "\n"
     ]
    },
    {
     "data": {
      "text/plain": [
       "{'Problem': [{'Name': 'unknown', 'Lower bound': 395706458.8, 'Upper bound': 395706458.8, 'Number of objectives': 1, 'Number of constraints': 76, 'Number of variables': 100, 'Number of nonzeros': 93, 'Sense': 'minimize'}], 'Solver': [{'Status': 'ok', 'User time': -1.0, 'System time': 0.0, 'Wallclock time': 0.01, 'Termination condition': 'optimal', 'Termination message': 'Model was solved to optimality (subject to tolerances), and an optimal solution is available.', 'Statistics': {'Branch and bound': {'Number of bounded subproblems': None, 'Number of created subproblems': None}, 'Black box': {'Number of iterations': 73}}, 'Error rc': 0, 'Time': 0.0428006649017334}], 'Solution': [OrderedDict([('number of solutions', 0), ('number of solutions displayed', 0)])]}"
      ]
     },
     "execution_count": 7,
     "metadata": {},
     "output_type": "execute_result"
    }
   ],
   "source": [
    "base = pyo.ConcreteModel()\n",
    "constructBaseModel(base)\n",
    "\n",
    "opt = pyo.SolverFactory('cbc')\n",
    "opt.solve(base, tee = True)"
   ]
  },
  {
   "cell_type": "code",
   "execution_count": 8,
   "metadata": {},
   "outputs": [
    {
     "data": {
      "text/plain": [
       "395706458.61730003"
      ]
     },
     "execution_count": 8,
     "metadata": {},
     "output_type": "execute_result"
    }
   ],
   "source": [
    "base.obj()"
   ]
  },
  {
   "cell_type": "markdown",
   "metadata": {},
   "source": [
    "## Extension 1"
   ]
  },
  {
   "cell_type": "code",
   "execution_count": 9,
   "metadata": {},
   "outputs": [],
   "source": [
    "bigM = 1000000\n",
    "\n",
    "extra_wf = np.zeros((12,))\n",
    "extra_wf[5:8] = bigM\n",
    "extra_cost = 38"
   ]
  },
  {
   "cell_type": "code",
   "execution_count": 10,
   "metadata": {},
   "outputs": [],
   "source": [
    "p=3\n",
    "t=12\n",
    "\n",
    "# Update objective\n",
    "ex1Obj = lambda model : objRule(model) + sum(model.E[t]*extra_cost for t in model.t)\n",
    "\n",
    "# Extra workforce constraint\n",
    "c5 = lambda model, t : model.E[t] <= extra_wf[t]\n",
    "\n",
    "# Production-workforce constraint update\n",
    "c1_upd = lambda model, t: sum(model.X[t,p]*prod_time[p] for p in model.p) <= model.W[t] + model.O[t] + model.E[t]\n",
    "\n",
    "def constructExtension1(model):\n",
    "    model.p = range(p)\n",
    "    model.t = range(t)\n",
    "    model.t2 = range(t+1)\n",
    "\n",
    "    model.X = pyo.Var(model.t, model.p, domain=pyo.NonNegativeReals)\n",
    "    model.I = pyo.Var(model.t2, model.p, domain=pyo.NonNegativeReals)\n",
    "    model.W = pyo.Var(model.t, domain=pyo.NonNegativeReals)\n",
    "    model.O = pyo.Var(model.t, domain=pyo.NonNegativeReals)\n",
    "    model.E = pyo.Var(model.t, domain=pyo.NonNegativeReals)\n",
    "    \n",
    "    model.obj = pyo.Objective(rule = ex1Obj, sense=pyo.minimize)\n",
    "    \n",
    "    model.c0 = pyo.Constraint(model.t, model.p, rule=c0)\n",
    "    model.c1_upd = pyo.Constraint(model.t, rule=c1_upd)\n",
    "    model.c2 = pyo.Constraint(model.t, rule=c2)\n",
    "    model.c3 = pyo.Constraint(model.p, rule=c3)\n",
    "    model.c4 = pyo.Constraint(model.t, rule=c4)\n",
    "    model.c5 = pyo.Constraint(model.t, rule=c5)    "
   ]
  },
  {
   "cell_type": "code",
   "execution_count": 11,
   "metadata": {},
   "outputs": [
    {
     "name": "stdout",
     "output_type": "stream",
     "text": [
      "Welcome to the CBC MILP Solver \n",
      "Version: Trunk (unstable) \n",
      "Build Date: Feb 24 2019 \n",
      "\n",
      "command line - C:\\Program Files\\CBC 2.10.0\\bin\\cbc.exe -printingOptions all -import C:\\Users\\mehmet\\AppData\\Local\\Temp\\tmp201c8onk.pyomo.lp -stat=1 -solve -solu C:\\Users\\mehmet\\AppData\\Local\\Temp\\tmp201c8onk.pyomo.soln (default strategy 1)\n",
      "Option for printingOptions changed from normal to all\n",
      "Presolve 45 (-43) rows, 96 (-16) columns and 162 (-58) elements\n",
      "Statistics for presolved model\n",
      "\n",
      "\n",
      "Problem has 45 rows, 96 columns (96 with objective) and 162 elements\n",
      "There are 30 singletons with objective \n",
      "Column breakdown:\n",
      "66 of type 0.0->inf, 27 of type 0.0->up, 3 of type lo->inf, \n",
      "0 of type lo->up, 0 of type free, 0 of type fixed, \n",
      "0 of type -inf->0.0, 0 of type -inf->up, 0 of type 0.0->1.0 \n",
      "Row breakdown:\n",
      "0 of type E 0.0, 0 of type E 1.0, 0 of type E -1.0, \n",
      "33 of type E other, 0 of type G 0.0, 0 of type G 1.0, \n",
      "0 of type G other, 12 of type L 0.0, 0 of type L 1.0, \n",
      "0 of type L other, 0 of type Range 0.0->1.0, 0 of type Range other, \n",
      "0 of type Free \n",
      "Presolve 45 (-43) rows, 96 (-16) columns and 162 (-58) elements\n",
      "0  Obj 18997597 Primal inf 611395.56 (34)\n",
      "31  Obj 2.449815e+08 Primal inf 607243.89 (21)\n",
      "60  Obj 3.9405428e+08\n",
      "Optimal - objective value 3.9405428e+08\n",
      "After Postsolve, objective 3.9405428e+08, infeasibilities - dual 0 (0), primal 0 (0)\n",
      "Optimal objective 394054275.6 - 60 iterations time 0.002, Presolve 0.00\n",
      "Total time (CPU seconds):       0.01   (Wallclock seconds):       0.01\n",
      "\n"
     ]
    },
    {
     "data": {
      "text/plain": [
       "{'Problem': [{'Name': 'unknown', 'Lower bound': 394054275.6, 'Upper bound': 394054275.6, 'Number of objectives': 1, 'Number of constraints': 88, 'Number of variables': 112, 'Number of nonzeros': 96, 'Sense': 'minimize'}], 'Solver': [{'Status': 'ok', 'User time': -1.0, 'System time': 0.01, 'Wallclock time': 0.01, 'Termination condition': 'optimal', 'Termination message': 'Model was solved to optimality (subject to tolerances), and an optimal solution is available.', 'Statistics': {'Branch and bound': {'Number of bounded subproblems': None, 'Number of created subproblems': None}, 'Black box': {'Number of iterations': 60}}, 'Error rc': 0, 'Time': 0.06683731079101562}], 'Solution': [OrderedDict([('number of solutions', 0), ('number of solutions displayed', 0)])]}"
      ]
     },
     "execution_count": 11,
     "metadata": {},
     "output_type": "execute_result"
    }
   ],
   "source": [
    "ext1 = pyo.ConcreteModel()\n",
    "constructExtension1(ext1)\n",
    "\n",
    "opt.solve(ext1, tee = True)"
   ]
  },
  {
   "cell_type": "code",
   "execution_count": 12,
   "metadata": {},
   "outputs": [
    {
     "data": {
      "text/plain": [
       "394054275.84337497"
      ]
     },
     "execution_count": 12,
     "metadata": {},
     "output_type": "execute_result"
    }
   ],
   "source": [
    "ext1.obj()"
   ]
  },
  {
   "cell_type": "code",
   "execution_count": 13,
   "metadata": {},
   "outputs": [
    {
     "data": {
      "text/plain": [
       "1652182.773925066"
      ]
     },
     "execution_count": 13,
     "metadata": {},
     "output_type": "execute_result"
    }
   ],
   "source": [
    "base.obj() - ext1.obj()"
   ]
  },
  {
   "cell_type": "markdown",
   "metadata": {},
   "source": [
    "## Extension 2"
   ]
  },
  {
   "cell_type": "code",
   "execution_count": 14,
   "metadata": {},
   "outputs": [],
   "source": [
    "inv_cap = 25000"
   ]
  },
  {
   "cell_type": "code",
   "execution_count": 15,
   "metadata": {},
   "outputs": [],
   "source": [
    "p=3\n",
    "t=12\n",
    "\n",
    "# Max inventory constraint\n",
    "ex2_1 = lambda model, t: sum(model.I[t,p] for p in model.p) <= inv_cap\n",
    "\n",
    "def constructExtension2(model):\n",
    "    constructBaseModel(model)\n",
    "    model.ex2_1 = pyo.Constraint(model.t, rule=ex2_1)"
   ]
  },
  {
   "cell_type": "code",
   "execution_count": 16,
   "metadata": {},
   "outputs": [
    {
     "name": "stdout",
     "output_type": "stream",
     "text": [
      "Welcome to the CBC MILP Solver \n",
      "Version: Trunk (unstable) \n",
      "Build Date: Feb 24 2019 \n",
      "\n",
      "command line - C:\\Program Files\\CBC 2.10.0\\bin\\cbc.exe -printingOptions all -import C:\\Users\\mehmet\\AppData\\Local\\Temp\\tmpedvku4pj.pyomo.lp -stat=1 -solve -solu C:\\Users\\mehmet\\AppData\\Local\\Temp\\tmpedvku4pj.pyomo.soln (default strategy 1)\n",
      "Option for printingOptions changed from normal to all\n",
      "Presolve 56 (-32) rows, 93 (-7) columns and 192 (-40) elements\n",
      "Statistics for presolved model\n",
      "\n",
      "\n",
      "Problem has 56 rows, 93 columns (93 with objective) and 192 elements\n",
      "There are 27 singletons with objective \n",
      "Column breakdown:\n",
      "66 of type 0.0->inf, 24 of type 0.0->up, 3 of type lo->inf, \n",
      "0 of type lo->up, 0 of type free, 0 of type fixed, \n",
      "0 of type -inf->0.0, 0 of type -inf->up, 0 of type 0.0->1.0 \n",
      "Row breakdown:\n",
      "0 of type E 0.0, 0 of type E 1.0, 0 of type E -1.0, \n",
      "33 of type E other, 0 of type G 0.0, 0 of type G 1.0, \n",
      "0 of type G other, 12 of type L 0.0, 0 of type L 1.0, \n",
      "11 of type L other, 0 of type Range 0.0->1.0, 0 of type Range other, \n",
      "0 of type Free \n",
      "Presolve 56 (-32) rows, 93 (-7) columns and 192 (-40) elements\n",
      "0  Obj 33822136 Primal inf 598713.11 (44)\n",
      "47  Obj 3.4292308e+08 Primal inf 111754.12 (15)\n",
      "71  Obj 3.9613118e+08\n",
      "Optimal - objective value 3.9613118e+08\n",
      "After Postsolve, objective 3.9613118e+08, infeasibilities - dual 0 (0), primal 0 (0)\n",
      "Optimal objective 396131181.2 - 71 iterations time 0.002, Presolve 0.00\n",
      "Total time (CPU seconds):       0.01   (Wallclock seconds):       0.01\n",
      "\n"
     ]
    },
    {
     "data": {
      "text/plain": [
       "{'Problem': [{'Name': 'unknown', 'Lower bound': 396131181.2, 'Upper bound': 396131181.2, 'Number of objectives': 1, 'Number of constraints': 88, 'Number of variables': 100, 'Number of nonzeros': 93, 'Sense': 'minimize'}], 'Solver': [{'Status': 'ok', 'User time': -1.0, 'System time': 0.01, 'Wallclock time': 0.01, 'Termination condition': 'optimal', 'Termination message': 'Model was solved to optimality (subject to tolerances), and an optimal solution is available.', 'Statistics': {'Branch and bound': {'Number of bounded subproblems': None, 'Number of created subproblems': None}, 'Black box': {'Number of iterations': 71}}, 'Error rc': 0, 'Time': 0.05984044075012207}], 'Solution': [OrderedDict([('number of solutions', 0), ('number of solutions displayed', 0)])]}"
      ]
     },
     "execution_count": 16,
     "metadata": {},
     "output_type": "execute_result"
    }
   ],
   "source": [
    "ext2 = pyo.ConcreteModel()\n",
    "constructExtension2(ext2)\n",
    "\n",
    "opt.solve(ext2, tee=True)"
   ]
  },
  {
   "cell_type": "code",
   "execution_count": 17,
   "metadata": {},
   "outputs": [
    {
     "data": {
      "text/plain": [
       "396131179.75717"
      ]
     },
     "execution_count": 17,
     "metadata": {},
     "output_type": "execute_result"
    }
   ],
   "source": [
    "ext2.obj()"
   ]
  },
  {
   "cell_type": "code",
   "execution_count": 18,
   "metadata": {},
   "outputs": [
    {
     "data": {
      "text/plain": [
       "-424721.13986998796"
      ]
     },
     "execution_count": 18,
     "metadata": {},
     "output_type": "execute_result"
    }
   ],
   "source": [
    "base.obj() - ext2.obj()"
   ]
  },
  {
   "cell_type": "markdown",
   "metadata": {},
   "source": [
    "## Extension 3"
   ]
  },
  {
   "cell_type": "code",
   "execution_count": 19,
   "metadata": {},
   "outputs": [],
   "source": [
    "p=3\n",
    "t=12\n",
    "\n",
    "def constructExtension3(model):\n",
    "    constructExtension1(model)\n",
    "    model.ex2_1 = pyo.Constraint(model.t, rule=ex2_1)"
   ]
  },
  {
   "cell_type": "code",
   "execution_count": 20,
   "metadata": {},
   "outputs": [
    {
     "name": "stdout",
     "output_type": "stream",
     "text": [
      "Welcome to the CBC MILP Solver \n",
      "Version: Trunk (unstable) \n",
      "Build Date: Feb 24 2019 \n",
      "\n",
      "command line - C:\\Program Files\\CBC 2.10.0\\bin\\cbc.exe -printingOptions all -import C:\\Users\\mehmet\\AppData\\Local\\Temp\\tmp7ub_tzp0.pyomo.lp -stat=1 -solve -solu C:\\Users\\mehmet\\AppData\\Local\\Temp\\tmp7ub_tzp0.pyomo.soln (default strategy 1)\n",
      "Option for printingOptions changed from normal to all\n",
      "Presolve 56 (-44) rows, 96 (-16) columns and 195 (-61) elements\n",
      "Statistics for presolved model\n",
      "\n",
      "\n",
      "Problem has 56 rows, 96 columns (96 with objective) and 195 elements\n",
      "There are 30 singletons with objective \n",
      "Column breakdown:\n",
      "66 of type 0.0->inf, 27 of type 0.0->up, 3 of type lo->inf, \n",
      "0 of type lo->up, 0 of type free, 0 of type fixed, \n",
      "0 of type -inf->0.0, 0 of type -inf->up, 0 of type 0.0->1.0 \n",
      "Row breakdown:\n",
      "0 of type E 0.0, 0 of type E 1.0, 0 of type E -1.0, \n",
      "33 of type E other, 0 of type G 0.0, 0 of type G 1.0, \n",
      "0 of type G other, 12 of type L 0.0, 0 of type L 1.0, \n",
      "11 of type L other, 0 of type Range 0.0->1.0, 0 of type Range other, \n",
      "0 of type Free \n",
      "Presolve 56 (-44) rows, 96 (-16) columns and 195 (-61) elements\n",
      "0  Obj 33822136 Primal inf 598713.11 (44)\n",
      "47  Obj 3.4292308e+08 Primal inf 111754.12 (15)\n",
      "75  Obj 3.955845e+08\n",
      "Optimal - objective value 3.955845e+08\n",
      "After Postsolve, objective 3.955845e+08, infeasibilities - dual 0 (0), primal 0 (0)\n",
      "Optimal objective 395584496.9 - 75 iterations time 0.002, Presolve 0.00\n",
      "Total time (CPU seconds):       0.01   (Wallclock seconds):       0.01\n",
      "\n"
     ]
    },
    {
     "data": {
      "text/plain": [
       "{'Problem': [{'Name': 'unknown', 'Lower bound': 395584496.9, 'Upper bound': 395584496.9, 'Number of objectives': 1, 'Number of constraints': 100, 'Number of variables': 112, 'Number of nonzeros': 96, 'Sense': 'minimize'}], 'Solver': [{'Status': 'ok', 'User time': -1.0, 'System time': 0.01, 'Wallclock time': 0.01, 'Termination condition': 'optimal', 'Termination message': 'Model was solved to optimality (subject to tolerances), and an optimal solution is available.', 'Statistics': {'Branch and bound': {'Number of bounded subproblems': None, 'Number of created subproblems': None}, 'Black box': {'Number of iterations': 75}}, 'Error rc': 0, 'Time': 0.06881403923034668}], 'Solution': [OrderedDict([('number of solutions', 0), ('number of solutions displayed', 0)])]}"
      ]
     },
     "execution_count": 20,
     "metadata": {},
     "output_type": "execute_result"
    }
   ],
   "source": [
    "ext3 = pyo.ConcreteModel()\n",
    "constructExtension3(ext3)\n",
    "\n",
    "opt.solve(ext3, tee=True)"
   ]
  },
  {
   "cell_type": "code",
   "execution_count": 21,
   "metadata": {},
   "outputs": [
    {
     "data": {
      "text/plain": [
       "395584496.69719493"
      ]
     },
     "execution_count": 21,
     "metadata": {},
     "output_type": "execute_result"
    }
   ],
   "source": [
    "ext3.obj()"
   ]
  },
  {
   "cell_type": "code",
   "execution_count": 22,
   "metadata": {},
   "outputs": [
    {
     "data": {
      "text/plain": [
       "121961.92010509968"
      ]
     },
     "execution_count": 22,
     "metadata": {},
     "output_type": "execute_result"
    }
   ],
   "source": [
    "base.obj() - ext3.obj()"
   ]
  },
  {
   "cell_type": "code",
   "execution_count": 23,
   "metadata": {},
   "outputs": [
    {
     "data": {
      "text/plain": [
       "-1530220.8538199663"
      ]
     },
     "execution_count": 23,
     "metadata": {},
     "output_type": "execute_result"
    }
   ],
   "source": [
    "ext1.obj() - ext3.obj()"
   ]
  },
  {
   "cell_type": "code",
   "execution_count": 24,
   "metadata": {},
   "outputs": [
    {
     "data": {
      "text/plain": [
       "546683.0599750876"
      ]
     },
     "execution_count": 24,
     "metadata": {},
     "output_type": "execute_result"
    }
   ],
   "source": [
    "ext2.obj() - ext3.obj()"
   ]
  },
  {
   "cell_type": "markdown",
   "metadata": {},
   "source": [
    "## Extension 4"
   ]
  },
  {
   "cell_type": "code",
   "execution_count": 25,
   "metadata": {},
   "outputs": [],
   "source": [
    "inv_car_updated = np.r_[[0.01]*6,[0.02]*6]\n",
    "IC_updated = inv_car_updated.reshape((12,1))*prod_cost"
   ]
  },
  {
   "cell_type": "code",
   "execution_count": 26,
   "metadata": {},
   "outputs": [],
   "source": [
    "p=3\n",
    "t=12\n",
    "\n",
    "ext4_obj = lambda model : sum(model.X[t,p]*prod_cost[t,p] for t in model.t for p in model.p) + sum(model.I[t+1,p]*IC_updated[t,p] for t in model.t for p in model.p) + sum(model.W[t]*reg_cost[t] for t in model.t) + sum(model.O[t]*overtime_cost[t] for t in model.t)\n",
    "\n",
    "def constructExtension4(model):\n",
    "    constructBaseModel(model)\n",
    "    model.del_component(model.obj)\n",
    "    \n",
    "    model.obj = pyo.Objective(rule=ext4_obj, sense=pyo.minimize)"
   ]
  },
  {
   "cell_type": "code",
   "execution_count": 27,
   "metadata": {},
   "outputs": [
    {
     "name": "stdout",
     "output_type": "stream",
     "text": [
      "Welcome to the CBC MILP Solver \n",
      "Version: Trunk (unstable) \n",
      "Build Date: Feb 24 2019 \n",
      "\n",
      "command line - C:\\Program Files\\CBC 2.10.0\\bin\\cbc.exe -printingOptions all -import C:\\Users\\mehmet\\AppData\\Local\\Temp\\tmpskm5njk9.pyomo.lp -stat=1 -solve -solu C:\\Users\\mehmet\\AppData\\Local\\Temp\\tmpskm5njk9.pyomo.soln (default strategy 1)\n",
      "Option for printingOptions changed from normal to all\n",
      "Presolve 45 (-31) rows, 93 (-7) columns and 159 (-37) elements\n",
      "Statistics for presolved model\n",
      "\n",
      "\n",
      "Problem has 45 rows, 93 columns (93 with objective) and 159 elements\n",
      "There are 27 singletons with objective \n",
      "Column breakdown:\n",
      "66 of type 0.0->inf, 24 of type 0.0->up, 3 of type lo->inf, \n",
      "0 of type lo->up, 0 of type free, 0 of type fixed, \n",
      "0 of type -inf->0.0, 0 of type -inf->up, 0 of type 0.0->1.0 \n",
      "Row breakdown:\n",
      "0 of type E 0.0, 0 of type E 1.0, 0 of type E -1.0, \n",
      "33 of type E other, 0 of type G 0.0, 0 of type G 1.0, \n",
      "0 of type G other, 12 of type L 0.0, 0 of type L 1.0, \n",
      "0 of type L other, 0 of type Range 0.0->1.0, 0 of type Range other, \n",
      "0 of type Free \n",
      "Presolve 45 (-31) rows, 93 (-7) columns and 159 (-37) elements\n",
      "0  Obj 18997597 Primal inf 611395.56 (34)\n",
      "33  Obj 2.8604851e+08 Primal inf 1002746.6 (23)\n",
      "67  Obj 3.9636886e+08\n",
      "Optimal - objective value 3.9636886e+08\n",
      "After Postsolve, objective 3.9636886e+08, infeasibilities - dual 0 (0), primal 0 (0)\n",
      "Optimal objective 396368861.5 - 67 iterations time 0.002, Presolve 0.00\n",
      "Total time (CPU seconds):       0.01   (Wallclock seconds):       0.01\n",
      "\n"
     ]
    },
    {
     "data": {
      "text/plain": [
       "{'Problem': [{'Name': 'unknown', 'Lower bound': 396368861.5, 'Upper bound': 396368861.5, 'Number of objectives': 1, 'Number of constraints': 76, 'Number of variables': 100, 'Number of nonzeros': 93, 'Sense': 'minimize'}], 'Solver': [{'Status': 'ok', 'User time': -1.0, 'System time': 0.01, 'Wallclock time': 0.01, 'Termination condition': 'optimal', 'Termination message': 'Model was solved to optimality (subject to tolerances), and an optimal solution is available.', 'Statistics': {'Branch and bound': {'Number of bounded subproblems': None, 'Number of created subproblems': None}, 'Black box': {'Number of iterations': 67}}, 'Error rc': 0, 'Time': 0.06781601905822754}], 'Solution': [OrderedDict([('number of solutions', 0), ('number of solutions displayed', 0)])]}"
      ]
     },
     "execution_count": 27,
     "metadata": {},
     "output_type": "execute_result"
    }
   ],
   "source": [
    "ext4 = pyo.ConcreteModel()\n",
    "constructExtension4(ext4)\n",
    "\n",
    "opt.solve(ext4, tee=True)"
   ]
  },
  {
   "cell_type": "code",
   "execution_count": 28,
   "metadata": {
    "scrolled": true
   },
   "outputs": [
    {
     "data": {
      "text/plain": [
       "396368861.31595"
      ]
     },
     "execution_count": 28,
     "metadata": {},
     "output_type": "execute_result"
    }
   ],
   "source": [
    "ext4.obj()"
   ]
  },
  {
   "cell_type": "code",
   "execution_count": 29,
   "metadata": {},
   "outputs": [
    {
     "data": {
      "text/plain": [
       "-662402.6986499429"
      ]
     },
     "execution_count": 29,
     "metadata": {},
     "output_type": "execute_result"
    }
   ],
   "source": [
    "base.obj() - ext4.obj()"
   ]
  },
  {
   "cell_type": "markdown",
   "metadata": {},
   "source": [
    "## Extension 5"
   ]
  },
  {
   "cell_type": "code",
   "execution_count": 30,
   "metadata": {},
   "outputs": [],
   "source": [
    "import itertools as it"
   ]
  },
  {
   "cell_type": "code",
   "execution_count": 31,
   "metadata": {},
   "outputs": [],
   "source": [
    "cases = list(it.product([0.9,1.1],repeat=3))"
   ]
  },
  {
   "cell_type": "code",
   "execution_count": 32,
   "metadata": {},
   "outputs": [],
   "source": [
    "p=3\n",
    "t=12\n",
    "\n",
    "def constructExtension5(model, case):\n",
    "    constructExtension2(model)\n",
    "    model.del_component(model.c1)\n",
    "    c1_updated = lambda model, t: sum(model.X[t,p]*prod_time[p]*case[p] for p in model.p) <= model.W[t] + model.O[t]\n",
    "    model.c1_upd = pyo.Constraint(model.t, rule=c1_updated)"
   ]
  },
  {
   "cell_type": "code",
   "execution_count": 33,
   "metadata": {},
   "outputs": [],
   "source": [
    "objectives = []\n",
    "for c in cases:\n",
    "    ext5 = pyo.ConcreteModel()\n",
    "    constructExtension5(ext5, c)\n",
    "    opt.solve(ext5)\n",
    "    objectives.append(ext5.obj())"
   ]
  },
  {
   "cell_type": "code",
   "execution_count": 34,
   "metadata": {},
   "outputs": [
    {
     "name": "stdout",
     "output_type": "stream",
     "text": [
      "Case (0.9, 0.9, 0.9) -> Objective : 390512284.75321996\t-> Base-New : 5194173.864080071\n",
      "Case (0.9, 0.9, 1.1) -> Objective : 392612661.2126\t-> Base-New : 3093797.404700041\n",
      "Case (0.9, 1.1, 0.9) -> Objective : 394735107.78910005\t-> Base-New : 971350.8281999826\n",
      "Case (0.9, 1.1, 1.1) -> Objective : 397061021.5492749\t-> Base-New : -1354562.9319748878\n",
      "Case (1.1, 0.9, 0.9) -> Objective : 395179299.1948701\t-> Base-New : 527159.4224299192\n",
      "Case (1.1, 0.9, 1.1) -> Objective : 397580235.86978\t-> Base-New : -1873777.2524799705\n",
      "Case (1.1, 1.1, 0.9) -> Objective : 400063669.36012006\t-> Base-New : -4357210.7428200245\n",
      "Case (1.1, 1.1, 1.1) -> Objective : 403033533.00425494\t-> Base-New : -7327074.386954904\n"
     ]
    }
   ],
   "source": [
    "for i in range(len(cases)):\n",
    "    print(\"Case {0} -> Objective : {1}\\t-> Base-New : {2}\".format(cases[i],objectives[i],base.obj()-objectives[i]))"
   ]
  },
  {
   "cell_type": "markdown",
   "metadata": {},
   "source": [
    "## Extension 6"
   ]
  },
  {
   "cell_type": "code",
   "execution_count": 36,
   "metadata": {},
   "outputs": [],
   "source": [
    "sales_updated = sales_forecast.copy()\n",
    "sales_updated[3:6,2] = 17500"
   ]
  },
  {
   "cell_type": "code",
   "execution_count": 37,
   "metadata": {},
   "outputs": [],
   "source": [
    "p=3\n",
    "t=12\n",
    "\n",
    "bigM = 100000\n",
    "\n",
    "c0_updated = lambda model, t, p : model.X[t,p]+model.I[t,p]-sales_updated[t,p] == model.I[t+1,p] - model.S[t,p]\n",
    "ext6_obj = lambda model : objRule(model) + sum(model.S[t,p]*bigM for t in model.t for p in model.p)\n",
    "\n",
    "def constructExtension6(model):\n",
    "    constructExtension2(model)\n",
    "    \n",
    "    # Add shortage variable\n",
    "    model.S = pyo.Var(model.t, model.p, domain=pyo.NonNegativeReals)\n",
    "    \n",
    "    model.del_component(model.c0)\n",
    "    model.del_component(model.obj)\n",
    "    \n",
    "    model.obj = pyo.Objective(rule=ext6_obj, sense=pyo.minimize)\n",
    "    model.c0_upd = pyo.Constraint(model.t, model.p, rule=c0_updated)"
   ]
  },
  {
   "cell_type": "code",
   "execution_count": 38,
   "metadata": {},
   "outputs": [
    {
     "name": "stdout",
     "output_type": "stream",
     "text": [
      "Welcome to the CBC MILP Solver \n",
      "Version: Trunk (unstable) \n",
      "Build Date: Feb 24 2019 \n",
      "\n",
      "command line - C:\\Program Files\\CBC 2.10.0\\bin\\cbc.exe -printingOptions all -import C:\\Users\\mehmet\\AppData\\Local\\Temp\\tmpzv1gb0s7.pyomo.lp -stat=1 -solve -solu C:\\Users\\mehmet\\AppData\\Local\\Temp\\tmpzv1gb0s7.pyomo.soln (default strategy 1)\n",
      "Option for printingOptions changed from normal to all\n",
      "Presolve 59 (-29) rows, 132 (-4) columns and 234 (-34) elements\n",
      "Statistics for presolved model\n",
      "\n",
      "\n",
      "Problem has 59 rows, 132 columns (132 with objective) and 234 elements\n",
      "There are 63 singletons with objective \n",
      "Column breakdown:\n",
      "108 of type 0.0->inf, 24 of type 0.0->up, 0 of type lo->inf, \n",
      "0 of type lo->up, 0 of type free, 0 of type fixed, \n",
      "0 of type -inf->0.0, 0 of type -inf->up, 0 of type 0.0->1.0 \n",
      "Row breakdown:\n",
      "0 of type E 0.0, 0 of type E 1.0, 0 of type E -1.0, \n",
      "36 of type E other, 0 of type G 0.0, 0 of type G 1.0, \n",
      "0 of type G other, 12 of type L 0.0, 0 of type L 1.0, \n",
      "11 of type L other, 0 of type Range 0.0->1.0, 0 of type Range other, \n",
      "0 of type Free \n",
      "Presolve 59 (-29) rows, 132 (-4) columns and 234 (-34) elements\n",
      "0  Obj 0 Primal inf 664500 (36)\n",
      "44  Obj 3.1089608e+08 Primal inf 266254.96 (26)\n",
      "80  Obj 4.2676655e+08 Primal inf 8770.2346 (5)\n",
      "85  Obj 7.0532861e+08\n",
      "Optimal - objective value 7.0532861e+08\n",
      "After Postsolve, objective 7.0532861e+08, infeasibilities - dual 0 (0), primal 0 (0)\n",
      "Optimal objective 705328606.2 - 85 iterations time 0.002, Presolve 0.00\n",
      "Total time (CPU seconds):       0.01   (Wallclock seconds):       0.01\n",
      "\n"
     ]
    },
    {
     "data": {
      "text/plain": [
       "{'Problem': [{'Name': 'unknown', 'Lower bound': 705328606.2, 'Upper bound': 705328606.2, 'Number of objectives': 1, 'Number of constraints': 88, 'Number of variables': 136, 'Number of nonzeros': 132, 'Sense': 'minimize'}], 'Solver': [{'Status': 'ok', 'User time': -1.0, 'System time': 0.01, 'Wallclock time': 0.01, 'Termination condition': 'optimal', 'Termination message': 'Model was solved to optimality (subject to tolerances), and an optimal solution is available.', 'Statistics': {'Branch and bound': {'Number of bounded subproblems': None, 'Number of created subproblems': None}, 'Black box': {'Number of iterations': 85}}, 'Error rc': 0, 'Time': 0.05834460258483887}], 'Solution': [OrderedDict([('number of solutions', 0), ('number of solutions displayed', 0)])]}"
      ]
     },
     "execution_count": 38,
     "metadata": {},
     "output_type": "execute_result"
    }
   ],
   "source": [
    "ext6 = pyo.ConcreteModel()\n",
    "constructExtension6(ext6)\n",
    "\n",
    "opt.solve(ext6, tee=True)"
   ]
  },
  {
   "cell_type": "code",
   "execution_count": 39,
   "metadata": {},
   "outputs": [
    {
     "data": {
      "text/plain": [
       "array([[   0.    ,    0.    ,    0.    ],\n",
       "       [   0.    ,    0.    ,    0.    ],\n",
       "       [   0.    ,    0.    ,    0.    ],\n",
       "       [   0.    ,    0.    ,    0.    ],\n",
       "       [   0.    ,    0.    ,    0.    ],\n",
       "       [   0.    ,    0.    , 2813.4328],\n",
       "       [   0.    ,    0.    ,    0.    ],\n",
       "       [   0.    ,    0.    ,    0.    ],\n",
       "       [   0.    ,    0.    ,    0.    ],\n",
       "       [   0.    ,    0.    ,    0.    ],\n",
       "       [   0.    ,    0.    ,    0.    ],\n",
       "       [   0.    ,    0.    ,    0.    ]])"
      ]
     },
     "execution_count": 39,
     "metadata": {},
     "output_type": "execute_result"
    }
   ],
   "source": [
    "shortage = np.zeros((ext6.t.stop,ext6.p.stop))\n",
    "for t in ext6.t:\n",
    "    for p in ext6.p:\n",
    "        shortage[t,p] = ext6.S[t,p]()\n",
    "shortage"
   ]
  }
 ],
 "metadata": {
  "kernelspec": {
   "display_name": "Python 3",
   "language": "python",
   "name": "python3"
  },
  "language_info": {
   "codemirror_mode": {
    "name": "ipython",
    "version": 3
   },
   "file_extension": ".py",
   "mimetype": "text/x-python",
   "name": "python",
   "nbconvert_exporter": "python",
   "pygments_lexer": "ipython3",
   "version": "3.7.1"
  },
  "toc": {
   "base_numbering": 1,
   "nav_menu": {},
   "number_sections": false,
   "sideBar": true,
   "skip_h1_title": false,
   "title_cell": "Table of Contents",
   "title_sidebar": "Contents",
   "toc_cell": false,
   "toc_position": {},
   "toc_section_display": true,
   "toc_window_display": true
  },
  "varInspector": {
   "cols": {
    "lenName": 16,
    "lenType": 16,
    "lenVar": 40
   },
   "kernels_config": {
    "python": {
     "delete_cmd_postfix": "",
     "delete_cmd_prefix": "del ",
     "library": "var_list.py",
     "varRefreshCmd": "print(var_dic_list())"
    },
    "r": {
     "delete_cmd_postfix": ") ",
     "delete_cmd_prefix": "rm(",
     "library": "var_list.r",
     "varRefreshCmd": "cat(var_dic_list()) "
    }
   },
   "types_to_exclude": [
    "module",
    "function",
    "builtin_function_or_method",
    "instance",
    "_Feature"
   ],
   "window_display": false
  }
 },
 "nbformat": 4,
 "nbformat_minor": 4
}
